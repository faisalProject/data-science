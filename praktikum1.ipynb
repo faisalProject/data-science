{
 "cells": [
  {
   "cell_type": "markdown",
   "metadata": {},
   "source": [
    "#### BAB III (LISTS AND DICTIONARIES)"
   ]
  },
  {
   "cell_type": "markdown",
   "metadata": {},
   "source": [
    "##### List"
   ]
  },
  {
   "cell_type": "code",
   "execution_count": 1,
   "metadata": {},
   "outputs": [
    {
     "data": {
      "text/plain": [
       "list"
      ]
     },
     "execution_count": 1,
     "metadata": {},
     "output_type": "execute_result"
    }
   ],
   "source": [
    "# Creating an empty list in Python \n",
    "\n",
    "height = []\n",
    "type(height)"
   ]
  },
  {
   "cell_type": "code",
   "execution_count": 2,
   "metadata": {},
   "outputs": [
    {
     "data": {
      "text/plain": [
       "[1.76, 1.64, 1.79, 1, 57]"
      ]
     },
     "execution_count": 2,
     "metadata": {},
     "output_type": "execute_result"
    }
   ],
   "source": [
    "# A list containing heights \n",
    "\n",
    "height_list = [1.76, 1.64, 1.79, 1, 57]\n",
    "height_list"
   ]
  },
  {
   "cell_type": "code",
   "execution_count": 3,
   "metadata": {},
   "outputs": [
    {
     "data": {
      "text/plain": [
       "['Tom', 1.76, 'Harry', 1.64, 'Lisa', 1.79, 'Mona', 1, 57]"
      ]
     },
     "execution_count": 3,
     "metadata": {},
     "output_type": "execute_result"
    }
   ],
   "source": [
    "# A list containing str and float \n",
    "\n",
    "name_height_list = [\"Tom\", 1.76, \"Harry\", 1.64, \"Lisa\", 1.79, \"Mona\", 1,57]\n",
    "name_height_list"
   ]
  },
  {
   "cell_type": "markdown",
   "metadata": {},
   "source": [
    "##### Operasi Manupulasi Daftar yang Berbeda"
   ]
  },
  {
   "cell_type": "code",
   "execution_count": 4,
   "metadata": {},
   "outputs": [
    {
     "name": "stdout",
     "output_type": "stream",
     "text": [
      "python is very easy to learn for Data Science\n",
      "c is the first language I have learnt\n",
      "java is difficult to learn for Data Science\n"
     ]
    }
   ],
   "source": [
    "# Begin with number zero\n",
    "\n",
    "lang = ['python', 'c', 'java']\n",
    "\n",
    "print(lang[0] + ' is very easy to learn for Data Science')\n",
    "print(lang[1] + ' is the first language I have learnt')\n",
    "print(lang[2] + ' is difficult to learn for Data Science') "
   ]
  },
  {
   "cell_type": "code",
   "execution_count": 5,
   "metadata": {},
   "outputs": [
    {
     "name": "stdout",
     "output_type": "stream",
     "text": [
      "old list:  ['python', 'c', 'java']\n",
      "new list:  ['python', 'c', 'Cobol']\n"
     ]
    }
   ],
   "source": [
    "# Changing java with cobol language\n",
    "\n",
    "lang = ['python', 'c', 'java']\n",
    "print(\"old list: \", lang)\n",
    "lang[2] = 'Cobol'\n",
    "print(\"new list: \", lang)"
   ]
  },
  {
   "cell_type": "code",
   "execution_count": 6,
   "metadata": {},
   "outputs": [
    {
     "name": "stdout",
     "output_type": "stream",
     "text": [
      "language is:  python\n",
      "language is:  c\n",
      "language is:  cobol\n"
     ]
    }
   ],
   "source": [
    "# Using For loop\n",
    "\n",
    "language_list = ['python', 'c', 'cobol']\n",
    "for language in language_list:\n",
    "    print(\"language is: \", language)"
   ]
  },
  {
   "cell_type": "code",
   "execution_count": 7,
   "metadata": {},
   "outputs": [
    {
     "name": "stdout",
     "output_type": "stream",
     "text": [
      "element in the list:  3\n"
     ]
    }
   ],
   "source": [
    "# Using list's len() method\n",
    "\n",
    "language_list = ['python', 'c', 'cobol']\n",
    "print(\"element in the list: \", len(language_list))"
   ]
  },
  {
   "cell_type": "code",
   "execution_count": 8,
   "metadata": {},
   "outputs": [
    {
     "name": "stdout",
     "output_type": "stream",
     "text": [
      "Update list is: ['Python', 'C', 'Cobol', 'Java']\n"
     ]
    }
   ],
   "source": [
    "# Using list's append() method\n",
    "\n",
    "\n",
    "language_list = ['Python', 'C', 'Cobol']\n",
    "language_list.append('Java')\n",
    "print('Update list is:', language_list)"
   ]
  },
  {
   "cell_type": "code",
   "execution_count": 9,
   "metadata": {},
   "outputs": [
    {
     "name": "stdout",
     "output_type": "stream",
     "text": [
      "modified list is:  ['python', 'c', '.net', 'cobol', 'java']\n"
     ]
    }
   ],
   "source": [
    "# Adding a new language .net\n",
    "\n",
    "language_list = ['python', 'c', 'cobol', 'java']\n",
    "language_list.insert(2, '.net')\n",
    "print(\"modified list is: \", language_list)"
   ]
  },
  {
   "cell_type": "code",
   "execution_count": 10,
   "metadata": {},
   "outputs": [
    {
     "name": "stdout",
     "output_type": "stream",
     "text": [
      "update list:  ['python', 'c', '.net', 'java']\n",
      "latest list:  ['python', 'c', '.net']\n"
     ]
    }
   ],
   "source": [
    "# Removing some element from the list\n",
    "\n",
    "language_list = ['python', 'c', '.net', 'cobol', 'java']\n",
    "\n",
    "# Remove element by name\n",
    "language_list.remove('cobol')\n",
    "print(\"update list: \", language_list)\n",
    "\n",
    "# Remove element by index\n",
    "language_list.pop(3)\n",
    "print(\"latest list: \", language_list)"
   ]
  },
  {
   "cell_type": "code",
   "execution_count": 11,
   "metadata": {},
   "outputs": [
    {
     "name": "stdout",
     "output_type": "stream",
     "text": [
      "List after remove() example:  [1, 2, 3, 1]\n",
      "List after pop() example:  [1, 2, 3, 4]\n",
      "List after del() example:  [1, 2, 3, 4]\n"
     ]
    }
   ],
   "source": [
    "# Applying different methods to remove an element\n",
    "\n",
    "number_list = [1, 2, 3, 4, 1]\n",
    "number_list.remove(4)\n",
    "print(\"List after remove() example: \", number_list)\n",
    "\n",
    "number_list = [1, 2, 3, 4, 1]\n",
    "number_list.pop(4)\n",
    "print(\"List after pop() example: \", number_list)\n",
    "\n",
    "number_list = [1, 2, 3, 4, 1]\n",
    "del(number_list[4])\n",
    "print(\"List after del() example: \", number_list)"
   ]
  },
  {
   "cell_type": "code",
   "execution_count": 12,
   "metadata": {},
   "outputs": [
    {
     "name": "stdout",
     "output_type": "stream",
     "text": [
      "Sort in ascending order:  ['.net', 'C', 'Cobol', 'Java', 'Python']\n",
      "Sort in descending order:  ['Python', 'Java', 'Cobol', 'C#', 'C', '.net']\n"
     ]
    }
   ],
   "source": [
    "# Sorting list in ascending or descending order\n",
    "\n",
    "language_list = ['Python', 'C', '.net', 'Cobol', 'Java']\n",
    "language_list.sort()\n",
    "print(\"Sort in ascending order: \", language_list)\n",
    "\n",
    "language_list = ['Python', 'C', '.net', 'Cobol', 'Java', 'C#']\n",
    "language_list.sort(reverse=True)\n",
    "print(\"Sort in descending order: \", language_list)"
   ]
  },
  {
   "cell_type": "markdown",
   "metadata": {},
   "source": [
    "##### Perbedaan List dan Tuple"
   ]
  },
  {
   "cell_type": "code",
   "execution_count": 13,
   "metadata": {},
   "outputs": [
    {
     "name": "stdout",
     "output_type": "stream",
     "text": [
      "Tuple example:  ('CS', 'IT', 'EC', 'ME')\n",
      "Data type of the example is <class 'tuple'>\n"
     ]
    }
   ],
   "source": [
    "# Tuple\n",
    "\n",
    "tuple_example = ('CS', 'IT', 'EC', 'ME')\n",
    "print(\"Tuple example: \", tuple_example)\n",
    "print(\"Data type of the example is\", type(tuple_example))"
   ]
  },
  {
   "cell_type": "markdown",
   "metadata": {},
   "source": [
    "##### Kamus (Dictionary)"
   ]
  },
  {
   "cell_type": "code",
   "execution_count": 14,
   "metadata": {},
   "outputs": [
    {
     "name": "stdout",
     "output_type": "stream",
     "text": [
      "Dictionary example  {'brand': 'Hyundai', 'model': 'Creta', 'Type': 'SUV', 'year': '2017'}\n"
     ]
    }
   ],
   "source": [
    "# Creating a dictionary\n",
    "\n",
    "dict_example = {\n",
    "    'brand' : 'Hyundai',\n",
    "    'model' : 'Creta',\n",
    "    'Type' : 'SUV',\n",
    "    'year' : '2017'\n",
    "}\n",
    "\n",
    "print(\"Dictionary example \", dict_example)"
   ]
  },
  {
   "cell_type": "code",
   "execution_count": 15,
   "metadata": {},
   "outputs": [
    {
     "name": "stdout",
     "output_type": "stream",
     "text": [
      "car brand by key:  Hyundai\n",
      "car brand by method:  Hyundai\n"
     ]
    }
   ],
   "source": [
    "# Using key and get() method\n",
    "\n",
    "# Access the brand value by key\n",
    "car_brand_by_key = dict_example['brand']\n",
    "print(\"car brand by key: \", car_brand_by_key)\n",
    "\n",
    "# Access the brand value by get()\n",
    "print(\"car brand by method: \", dict_example.get('brand'))"
   ]
  },
  {
   "cell_type": "code",
   "execution_count": 16,
   "metadata": {},
   "outputs": [
    {
     "name": "stdout",
     "output_type": "stream",
     "text": [
      "updated dict:  {'brand': 'Hyundai', 'model': 'Creta', 'Type': 'SUV', 'year': 2018}\n"
     ]
    }
   ],
   "source": [
    "# Changing value in the dictionary\n",
    "\n",
    "dict_example['year'] = 2018\n",
    "print(\"updated dict: \", dict_example)"
   ]
  },
  {
   "cell_type": "code",
   "execution_count": 17,
   "metadata": {},
   "outputs": [
    {
     "name": "stdout",
     "output_type": "stream",
     "text": [
      "key in dict:  brand\n",
      "key in dict:  model\n",
      "key in dict:  Type\n",
      "key in dict:  year\n"
     ]
    }
   ],
   "source": [
    "# For loop\n",
    "\n",
    "# Printing all keys\n",
    "for car_property in dict_example:\n",
    "    print(\"key in dict: \", car_property)"
   ]
  },
  {
   "cell_type": "code",
   "execution_count": 18,
   "metadata": {},
   "outputs": [
    {
     "name": "stdout",
     "output_type": "stream",
     "text": [
      "value in dict:  Hyundai\n",
      "value in dict:  Creta\n",
      "value in dict:  SUV\n",
      "value in dict:  2018\n"
     ]
    }
   ],
   "source": [
    "for car_property_value in dict_example.values():\n",
    "    print('value in dict: ', car_property_value)"
   ]
  },
  {
   "cell_type": "code",
   "execution_count": 19,
   "metadata": {},
   "outputs": [
    {
     "name": "stdout",
     "output_type": "stream",
     "text": [
      "brand Hyundai\n",
      "model Creta\n",
      "Type SUV\n",
      "year 2018\n"
     ]
    }
   ],
   "source": [
    "# Displaying car details in a key-value pair\n",
    "\n",
    "for car_property, car_property_value in dict_example.items():\n",
    "    print(car_property, car_property_value)"
   ]
  },
  {
   "cell_type": "markdown",
   "metadata": {},
   "source": [
    "#### BAB IV (PAKET, FUNGSI, dan PERULANGAN)"
   ]
  },
  {
   "cell_type": "markdown",
   "metadata": {},
   "source": [
    "##### Fungsi Help"
   ]
  },
  {
   "cell_type": "code",
   "execution_count": 20,
   "metadata": {},
   "outputs": [
    {
     "name": "stdout",
     "output_type": "stream",
     "text": [
      "Help on built-in function len in module builtins:\n",
      "\n",
      "len(obj, /)\n",
      "    Return the number of items in a container.\n",
      "\n"
     ]
    }
   ],
   "source": [
    "# Using hel() function\n",
    "\n",
    "help(len)"
   ]
  },
  {
   "cell_type": "markdown",
   "metadata": {},
   "source": [
    "##### Import Paket"
   ]
  },
  {
   "cell_type": "code",
   "execution_count": 21,
   "metadata": {},
   "outputs": [
    {
     "name": "stdout",
     "output_type": "stream",
     "text": [
      "area of the land is:  108.98844649760245\n"
     ]
    }
   ],
   "source": [
    "# Math package provided by python\n",
    "\n",
    "import math\n",
    "\n",
    "# Define area as variable area\n",
    "area = 0\n",
    "\n",
    "# Define radius as variable r\n",
    "r = 5.89\n",
    "\n",
    "# Calculate area\n",
    "area = math.pi * r**2\n",
    "print(\"area of the land is: \", area)"
   ]
  },
  {
   "cell_type": "markdown",
   "metadata": {},
   "source": [
    "##### Memanggil Fungsi"
   ]
  },
  {
   "cell_type": "code",
   "execution_count": 22,
   "metadata": {},
   "outputs": [
    {
     "name": "stdout",
     "output_type": "stream",
     "text": [
      "Hello Word\n"
     ]
    }
   ],
   "source": [
    "def myFunction() :\n",
    "    print(\"Hello Word\")\n",
    "\n",
    "# Calling functoin\n",
    "myFunction()"
   ]
  },
  {
   "cell_type": "markdown",
   "metadata": {},
   "source": [
    "##### Melewati Parameter Dalam Suatu Fungsi"
   ]
  },
  {
   "cell_type": "code",
   "execution_count": 23,
   "metadata": {},
   "outputs": [
    {
     "data": {
      "text/plain": [
       "17"
      ]
     },
     "execution_count": 23,
     "metadata": {},
     "output_type": "execute_result"
    }
   ],
   "source": [
    "# Defining a function to return sum of two numbers\n",
    "\n",
    "def addTwoNumbers(a, b) :\n",
    "    return a + b\n",
    "\n",
    "addTwoNumbers(9, 8)"
   ]
  },
  {
   "cell_type": "markdown",
   "metadata": {},
   "source": [
    "##### Parameter Yang Tidak Diketahui Dalam Suatu Fungsi "
   ]
  },
  {
   "cell_type": "code",
   "execution_count": null,
   "metadata": {},
   "outputs": [
    {
     "data": {
      "text/plain": [
       "21"
      ]
     },
     "execution_count": 24,
     "metadata": {},
     "output_type": "execute_result"
    }
   ],
   "source": [
    "# Sum() function to add three numbers\n",
    "\n",
    "def addFunction(*args) :\n",
    "    return sum(args)\n",
    "\n",
    "addFunction(9, 4, 8)"
   ]
  },
  {
   "cell_type": "code",
   "execution_count": 25,
   "metadata": {},
   "outputs": [
    {
     "name": "stdout",
     "output_type": "stream",
     "text": [
      "I am also learning\n",
      "I am also learning python for Data Science\n"
     ]
    }
   ],
   "source": [
    "# Commenting the first print line after function declaration\n",
    "\n",
    "def myFunction() :\n",
    "    # print(my_text)\n",
    "    my_text = 'I am also learning'\n",
    "    print(my_text)\n",
    "\n",
    "# Define a global scope variable\n",
    "my_text = \"I am also learning python for Data Science\"\n",
    "myFunction()\n",
    "print(my_text)"
   ]
  },
  {
   "cell_type": "markdown",
   "metadata": {},
   "source": [
    "##### Fungsi Lamda"
   ]
  },
  {
   "cell_type": "code",
   "execution_count": 26,
   "metadata": {},
   "outputs": [
    {
     "data": {
      "text/plain": [
       "10"
      ]
     },
     "execution_count": 26,
     "metadata": {},
     "output_type": "execute_result"
    }
   ],
   "source": [
    "# Normal function and lambda function\n",
    "\n",
    "def multiply(x) :\n",
    "    return x * 5\n",
    "\n",
    "multiply(2)"
   ]
  },
  {
   "cell_type": "markdown",
   "metadata": {},
   "source": [
    "##### While dan Loop"
   ]
  },
  {
   "cell_type": "code",
   "execution_count": 27,
   "metadata": {},
   "outputs": [
    {
     "name": "stdout",
     "output_type": "stream",
     "text": [
      "1\n",
      "2\n",
      "3\n"
     ]
    }
   ],
   "source": [
    "# While loop code snippet\n",
    "\n",
    "x = 1\n",
    "while x < 4:\n",
    "    print(x)\n",
    "    x += 1"
   ]
  },
  {
   "cell_type": "code",
   "execution_count": 28,
   "metadata": {},
   "outputs": [
    {
     "name": "stdout",
     "output_type": "stream",
     "text": [
      "S\n",
      "c\n",
      "i\n",
      "e\n",
      "n\n",
      "c\n",
      "e\n"
     ]
    }
   ],
   "source": [
    "# For loop code snippet\n",
    "\n",
    "for letter in \"Science\":\n",
    "    print(letter)"
   ]
  },
  {
   "cell_type": "markdown",
   "metadata": {},
   "source": [
    "#### BAB V (FUNDAMENTAL NUMPY)"
   ]
  },
  {
   "cell_type": "markdown",
   "metadata": {},
   "source": [
    "##### Import Paket Numpy"
   ]
  },
  {
   "cell_type": "code",
   "execution_count": 29,
   "metadata": {},
   "outputs": [],
   "source": [
    "# Importing a NumPy package\n",
    "import numpy as np # type: ignore"
   ]
  },
  {
   "cell_type": "markdown",
   "metadata": {},
   "source": [
    "##### Menggunakan Array Numpy Daripada List"
   ]
  },
  {
   "cell_type": "code",
   "execution_count": 30,
   "metadata": {},
   "outputs": [
    {
     "data": {
      "text/plain": [
       "array([9.16666667, 6.        , 6.42857143])"
      ]
     },
     "execution_count": 30,
     "metadata": {},
     "output_type": "execute_result"
    }
   ],
   "source": [
    "# Using NumPy Array\n",
    "\n",
    "import numpy as np # type: ignore\n",
    "\n",
    "distance = [55, 60, 45]\n",
    "speed = [6, 10, 7]\n",
    "dist = np.array(distance)\n",
    "spd = np.array(speed)\n",
    "time = dist/spd\n",
    "time"
   ]
  },
  {
   "cell_type": "markdown",
   "metadata": {},
   "source": [
    "##### Membuat Array Numpy"
   ]
  },
  {
   "cell_type": "code",
   "execution_count": 31,
   "metadata": {},
   "outputs": [
    {
     "name": "stdout",
     "output_type": "stream",
     "text": [
      "Data type of array:  float64\n",
      "No. of dimensions:  1\n",
      "Size of each dimensions:  (3,)\n",
      "Total size of array:  3\n"
     ]
    }
   ],
   "source": [
    "# NumPy attributes\n",
    "\n",
    "# Data type\n",
    "print(\"Data type of array: \", time.dtype)\n",
    "\n",
    "# No. of dimensions\n",
    "print(\"No. of dimensions: \", time.ndim)\n",
    "\n",
    "# Size of each dimensions\n",
    "print(\"Size of each dimensions: \", time.shape)\n",
    "\n",
    "# Total size of array\n",
    "print(\"Total size of array: \", time.size)"
   ]
  },
  {
   "cell_type": "markdown",
   "metadata": {},
   "source": [
    "##### Membuat Array Numpy"
   ]
  },
  {
   "cell_type": "code",
   "execution_count": 32,
   "metadata": {},
   "outputs": [
    {
     "name": "stdout",
     "output_type": "stream",
     "text": [
      "x1 ndim:  1\n",
      "x1 shape:  (6,)\n",
      "x1 size:  6\n",
      "x2 ndim:  2\n",
      "x2 shape:  (3, 4)\n",
      "x2 size:  12\n",
      "x3 ndim:  3\n",
      "x3 shape:  (3, 4, 5)\n",
      "x3 size:  60\n"
     ]
    }
   ],
   "source": [
    "# Creating arrays with random values\n",
    "\n",
    "np.random.seed(0)\n",
    "\n",
    "x1 = np.random.randint(10, size=6)\n",
    "x2 = np.random.randint(10, size=(3, 4))\n",
    "x3 = np.random.randint(10, size=(3, 4, 5))\n",
    "\n",
    "print(\"x1 ndim: \", x1.ndim)\n",
    "print(\"x1 shape: \", x1.shape)\n",
    "print(\"x1 size: \", x1.size)\n",
    "\n",
    "print(\"x2 ndim: \", x2.ndim)\n",
    "print(\"x2 shape: \", x2.shape)\n",
    "print(\"x2 size: \", x2.size)\n",
    "\n",
    "print(\"x3 ndim: \", x3.ndim)\n",
    "print(\"x3 shape: \", x3.shape)\n",
    "print(\"x3 size: \", x3.size)\n"
   ]
  },
  {
   "cell_type": "code",
   "execution_count": 33,
   "metadata": {},
   "outputs": [
    {
     "name": "stdout",
     "output_type": "stream",
     "text": [
      "Sequential array with steps of 5:\n",
      " [ 0  5 10 15]\n"
     ]
    }
   ],
   "source": [
    "# Using arange() function\n",
    "\n",
    "f = np.arange(0, 20, 5)\n",
    "print(\"Sequential array with steps of 5:\\n\", f)"
   ]
  },
  {
   "cell_type": "markdown",
   "metadata": {},
   "source": [
    "##### Mengakses Elemen Dalam Array Numpy"
   ]
  },
  {
   "cell_type": "code",
   "execution_count": 34,
   "metadata": {},
   "outputs": [
    {
     "name": "stdout",
     "output_type": "stream",
     "text": [
      "1-d array:  [5 0 3 3 7 9]\n",
      "Second element of first array:  0\n",
      "Last element of first array:  9\n",
      "first element of first array:  5\n"
     ]
    }
   ],
   "source": [
    "# Accessing elements of the arrays\n",
    "\n",
    "print(\"1-d array: \", x1)\n",
    "print(\"Second element of first array: \", x1[1])\n",
    "print(\"Last element of first array: \", x1[-1])\n",
    "print(\"first element of first array: \", x1[0])"
   ]
  },
  {
   "cell_type": "code",
   "execution_count": 35,
   "metadata": {},
   "outputs": [
    {
     "name": "stdout",
     "output_type": "stream",
     "text": [
      "2-d array:\n",
      " [[3 5 2 4]\n",
      " [7 6 8 8]\n",
      " [1 6 7 7]]\n",
      "First elements of 2-d array:\n",
      " 3\n",
      "3-d array:\n",
      " [[[8 1 5 9 8]\n",
      "  [9 4 3 0 3]\n",
      "  [5 0 2 3 8]\n",
      "  [1 3 3 3 7]]\n",
      "\n",
      " [[0 1 9 9 0]\n",
      "  [4 7 3 2 7]\n",
      "  [2 0 0 4 5]\n",
      "  [5 6 8 4 1]]\n",
      "\n",
      " [[4 9 8 1 1]\n",
      "  [7 9 9 3 6]\n",
      "  [7 2 0 3 5]\n",
      "  [9 4 4 6 4]]]\n",
      "First elements of 3-d array:\n",
      " 8\n"
     ]
    }
   ],
   "source": [
    "# Accessing first elements of 2D and 3D arrays\n",
    "\n",
    "print(\"2-d array:\\n\", x2)\n",
    "print(\"First elements of 2-d array:\\n\", x2[0,0])\n",
    "print(\"3-d array:\\n\", x3)\n",
    "print(\"First elements of 3-d array:\\n\", x3[0,0,0])"
   ]
  },
  {
   "cell_type": "markdown",
   "metadata": {},
   "source": [
    "##### Pemotongan (Slincing) Dalam Array Numpy"
   ]
  },
  {
   "cell_type": "code",
   "execution_count": 36,
   "metadata": {},
   "outputs": [
    {
     "name": "stdout",
     "output_type": "stream",
     "text": [
      "Our array:  [0 1 2 3 4 5 6 7 8 9]\n",
      "First five elements:  [0 1 2 3 4]\n",
      "Elements after index 5:  [5 6 7 8 9]\n",
      "Middle sub-array:  [4 5 6]\n",
      "Every other element:  [0 2 4 6 8]\n",
      "Every other element, starting at index 1:  [1 3 5 7 9]\n",
      "Elements in reversed order:  [9 8 7 6 5 4 3 2 1 0]\n"
     ]
    }
   ],
   "source": [
    "# Creating 1D array\n",
    "\n",
    "# Create an array\n",
    "x = np.arange(10)\n",
    "print(\"Our array: \", x)\n",
    "print(\"First five elements: \", x[:5])\n",
    "print(\"Elements after index 5: \", x[5:])\n",
    "print(\"Middle sub-array: \", x[4:7])\n",
    "print(\"Every other element: \", x[::2])\n",
    "print(\"Every other element, starting at index 1: \", x[1::2])\n",
    "print(\"Elements in reversed order: \", x[::-1])"
   ]
  },
  {
   "cell_type": "code",
   "execution_count": 37,
   "metadata": {},
   "outputs": [
    {
     "name": "stdout",
     "output_type": "stream",
     "text": [
      "2-d array:\n",
      " [[3 5 2 4]\n",
      " [7 6 8 8]\n",
      " [1 6 7 7]]\n",
      "Two rows, three columns:\n",
      " [[3 5 2]\n",
      " [7 6 8]]\n"
     ]
    }
   ],
   "source": [
    "print(\"2-d array:\\n\", x2)\n",
    "print(\"Two rows, three columns:\\n\", x2[:2, :3])"
   ]
  },
  {
   "cell_type": "code",
   "execution_count": 38,
   "metadata": {},
   "outputs": [
    {
     "name": "stdout",
     "output_type": "stream",
     "text": [
      "Original 2-d array:\n",
      " [[3 5 2 4]\n",
      " [7 6 8 8]\n",
      " [1 6 7 7]]\n",
      "Sub-array:\n",
      " [[3 5]\n",
      " [7 6]]\n",
      "Modified sub array:\n",
      " [[88  5]\n",
      " [ 7  6]]\n",
      "Original array after changes in sub-array:\n",
      " [[88  5  2  4]\n",
      " [ 7  6  8  8]\n",
      " [ 1  6  7  7]]\n",
      "Making a copy of the original array\n",
      "Copy of the original array:\n",
      " [[88  5]\n",
      " [ 7  6]]\n",
      "Copied array after changes:\n",
      " [[42  5]\n",
      " [ 7  6]]\n",
      "Original array:\n",
      " [[88  5  2  4]\n",
      " [ 7  6  8  8]\n",
      " [ 1  6  7  7]]\n"
     ]
    }
   ],
   "source": [
    "# Adding different dimension arrays into one\n",
    "\n",
    "# Original array\n",
    "print(\"Original 2-d array:\\n\", x2)\n",
    "\n",
    "# Creating a 2x2 subarray from the original array\n",
    "x2_sub = x2[:2, :2]\n",
    "print(\"Sub-array:\\n\", x2_sub)\n",
    "\n",
    "# Modifying sub-array\n",
    "x2_sub[0, 0] = 88\n",
    "print(\"Modified sub array:\\n\", x2_sub)\n",
    "\n",
    "# Original array after sub-array changes\n",
    "print(\"Original array after changes in sub-array:\\n\", x2)\n",
    "print(\"Making a copy of the original array\")\n",
    "\n",
    "x2_sub_copy= x2[:2, :2].copy()\n",
    "print(\"Copy of the original array:\\n\", x2_sub_copy)\n",
    "\n",
    "# Modifying copied array\n",
    "x2_sub_copy[0, 0] = 42\n",
    "print(\"Copied array after changes:\\n\", x2_sub_copy)\n",
    "print(\"Original array:\\n\", x2)"
   ]
  },
  {
   "cell_type": "code",
   "execution_count": 39,
   "metadata": {},
   "outputs": [
    {
     "data": {
      "text/plain": [
       "array([[1, 2, 3],\n",
       "       [9, 8, 7],\n",
       "       [6, 5, 4]])"
      ]
     },
     "execution_count": 39,
     "metadata": {},
     "output_type": "execute_result"
    }
   ],
   "source": [
    "# Creating a sample array\n",
    "x = np.array([1, 2, 3])\n",
    "\n",
    "# Creating a 2-d array\n",
    "grid = np.array([[9, 8, 7],\n",
    "                [6, 5, 4]])\n",
    "\n",
    "# Vertically stack the arrays\n",
    "np.vstack([x, grid])"
   ]
  },
  {
   "cell_type": "code",
   "execution_count": 40,
   "metadata": {},
   "outputs": [
    {
     "data": {
      "text/plain": [
       "array([[ 9,  8,  7, 99],\n",
       "       [ 6,  5,  4, 99]])"
      ]
     },
     "execution_count": 40,
     "metadata": {},
     "output_type": "execute_result"
    }
   ],
   "source": [
    "# Horizontally stack the arrays\n",
    "y = np.array([[99], [99]])\n",
    "np.hstack([grid, y])"
   ]
  },
  {
   "cell_type": "markdown",
   "metadata": {},
   "source": [
    "#### BAB VI (PANDAS DAN DATAFRAME)"
   ]
  },
  {
   "cell_type": "markdown",
   "metadata": {},
   "source": [
    "##### Import Pandas"
   ]
  },
  {
   "cell_type": "code",
   "execution_count": 41,
   "metadata": {},
   "outputs": [],
   "source": [
    "# Importing Pandas package using alias\n",
    "import pandas as pd # type: ignore"
   ]
  },
  {
   "cell_type": "markdown",
   "metadata": {},
   "source": [
    "##### Struktur Data Pandas"
   ]
  },
  {
   "cell_type": "code",
   "execution_count": 42,
   "metadata": {},
   "outputs": [
    {
     "name": "stdout",
     "output_type": "stream",
     "text": [
      "Empty series example:  Series([], dtype: object)\n"
     ]
    }
   ],
   "source": [
    "# Constructing pandas Series\n",
    "\n",
    "# Creating an empty Series\n",
    "x = pd.Series()\n",
    "print(\"Empty series example: \", x)"
   ]
  },
  {
   "cell_type": "code",
   "execution_count": 43,
   "metadata": {},
   "outputs": [
    {
     "data": {
      "text/plain": [
       "0    10\n",
       "1    20\n",
       "2    30\n",
       "3    50\n",
       "dtype: int64"
      ]
     },
     "execution_count": 43,
     "metadata": {},
     "output_type": "execute_result"
    }
   ],
   "source": [
    "# Another example of series\n",
    "\n",
    "# Series example\n",
    "series1 = pd.Series([10, 20, 30, 50])\n",
    "series1"
   ]
  },
  {
   "cell_type": "code",
   "execution_count": 44,
   "metadata": {},
   "outputs": [
    {
     "data": {
      "text/plain": [
       "a    10\n",
       "b    20\n",
       "c    30\n",
       "d    50\n",
       "dtype: int64"
      ]
     },
     "execution_count": 44,
     "metadata": {},
     "output_type": "execute_result"
    }
   ],
   "source": [
    "# Re-indexing the default index column\n",
    "\n",
    "series2 = pd.Series([10, 20, 30, 50], index=['a', 'b', 'c', 'd'])\n",
    "series2"
   ]
  },
  {
   "cell_type": "code",
   "execution_count": 45,
   "metadata": {},
   "outputs": [
    {
     "name": "stdout",
     "output_type": "stream",
     "text": [
      "Adding 5 to a Series:\n",
      " a    15\n",
      "b    25\n",
      "c    35\n",
      "d    55\n",
      "dtype: int64\n",
      "Filtering Series with greater than 30:\n",
      " d    50\n",
      "dtype: int64\n",
      "Square root of Series elements:\n",
      " a    3.162278\n",
      "b    4.472136\n",
      "c    5.477226\n",
      "d    7.071068\n",
      "dtype: float64\n"
     ]
    }
   ],
   "source": [
    "# Data manipulation with Series\n",
    "\n",
    "print(\"Adding 5 to a Series:\\n\", series2 + 5)\n",
    "print(\"Filtering Series with greater than 30:\\n\", series2[series2 > 30])\n",
    "print(\"Square root of Series elements:\\n\", np.sqrt(series2))"
   ]
  },
  {
   "cell_type": "code",
   "execution_count": 46,
   "metadata": {},
   "outputs": [
    {
     "name": "stdout",
     "output_type": "stream",
     "text": [
      "DataFrame example:\n",
      " Empty DataFrame\n",
      "Columns: []\n",
      "Index: []\n"
     ]
    }
   ],
   "source": [
    "# Creating an empty DataFrame\n",
    "\n",
    "df = pd.DataFrame()\n",
    "print(\"DataFrame example:\\n\", df)"
   ]
  },
  {
   "cell_type": "code",
   "execution_count": 47,
   "metadata": {},
   "outputs": [
    {
     "data": {
      "text/html": [
       "<div>\n",
       "<style scoped>\n",
       "    .dataframe tbody tr th:only-of-type {\n",
       "        vertical-align: middle;\n",
       "    }\n",
       "\n",
       "    .dataframe tbody tr th {\n",
       "        vertical-align: top;\n",
       "    }\n",
       "\n",
       "    .dataframe thead th {\n",
       "        text-align: right;\n",
       "    }\n",
       "</style>\n",
       "<table border=\"1\" class=\"dataframe\">\n",
       "  <thead>\n",
       "    <tr style=\"text-align: right;\">\n",
       "      <th></th>\n",
       "      <th>Name</th>\n",
       "      <th>Age</th>\n",
       "    </tr>\n",
       "  </thead>\n",
       "  <tbody>\n",
       "    <tr>\n",
       "      <th>0</th>\n",
       "      <td>Tom</td>\n",
       "      <td>10</td>\n",
       "    </tr>\n",
       "    <tr>\n",
       "      <th>1</th>\n",
       "      <td>Harry</td>\n",
       "      <td>12</td>\n",
       "    </tr>\n",
       "    <tr>\n",
       "      <th>2</th>\n",
       "      <td>Jim</td>\n",
       "      <td>13</td>\n",
       "    </tr>\n",
       "  </tbody>\n",
       "</table>\n",
       "</div>"
      ],
      "text/plain": [
       "    Name  Age\n",
       "0    Tom   10\n",
       "1  Harry   12\n",
       "2    Jim   13"
      ]
     },
     "execution_count": 47,
     "metadata": {},
     "output_type": "execute_result"
    }
   ],
   "source": [
    "# A sample list containing name and age\n",
    "data = [['Tom', 10], ['Harry', 12], ['Jim', 13]]\n",
    "\n",
    "# Creating a dataframe form given list with column names\n",
    "df = pd.DataFrame(data, columns=['Name', 'Age'])\n",
    "df"
   ]
  },
  {
   "cell_type": "code",
   "execution_count": 48,
   "metadata": {},
   "outputs": [
    {
     "data": {
      "text/html": [
       "<div>\n",
       "<style scoped>\n",
       "    .dataframe tbody tr th:only-of-type {\n",
       "        vertical-align: middle;\n",
       "    }\n",
       "\n",
       "    .dataframe tbody tr th {\n",
       "        vertical-align: top;\n",
       "    }\n",
       "\n",
       "    .dataframe thead th {\n",
       "        text-align: right;\n",
       "    }\n",
       "</style>\n",
       "<table border=\"1\" class=\"dataframe\">\n",
       "  <thead>\n",
       "    <tr style=\"text-align: right;\">\n",
       "      <th></th>\n",
       "      <th>Name</th>\n",
       "      <th>Age</th>\n",
       "      <th>year</th>\n",
       "    </tr>\n",
       "  </thead>\n",
       "  <tbody>\n",
       "    <tr>\n",
       "      <th>0</th>\n",
       "      <td>Tom</td>\n",
       "      <td>10</td>\n",
       "      <td>2008</td>\n",
       "    </tr>\n",
       "    <tr>\n",
       "      <th>1</th>\n",
       "      <td>Harry</td>\n",
       "      <td>12</td>\n",
       "      <td>2008</td>\n",
       "    </tr>\n",
       "    <tr>\n",
       "      <th>2</th>\n",
       "      <td>Jim</td>\n",
       "      <td>13</td>\n",
       "      <td>2008</td>\n",
       "    </tr>\n",
       "  </tbody>\n",
       "</table>\n",
       "</div>"
      ],
      "text/plain": [
       "    Name  Age  year\n",
       "0    Tom   10  2008\n",
       "1  Harry   12  2008\n",
       "2    Jim   13  2008"
      ]
     },
     "execution_count": 48,
     "metadata": {},
     "output_type": "execute_result"
    }
   ],
   "source": [
    "# Adding a column in existing dataframe\n",
    "df['year'] = '2008'\n",
    "df"
   ]
  },
  {
   "cell_type": "code",
   "execution_count": 49,
   "metadata": {},
   "outputs": [
    {
     "name": "stdout",
     "output_type": "stream",
     "text": [
      "Original dataframe:\n",
      "     Name  Age  year\n",
      "0    Tom   10  2008\n",
      "1  Harry   12  2008\n",
      "2    Jim   13  2008\n",
      "Dataframe after del:\n",
      "     Name  Age\n",
      "0    Tom   10\n",
      "1  Harry   12\n",
      "2    Jim   13\n",
      "Dataframe after pop:\n",
      "     Name\n",
      "0    Tom\n",
      "1  Harry\n",
      "2    Jim\n"
     ]
    }
   ],
   "source": [
    "# Deleting a column in existing DataFrame\n",
    "\n",
    "print(\"Original dataframe:\\n\", df)\n",
    "del df['year']\n",
    "\n",
    "print(\"Dataframe after del:\\n\", df)\n",
    "df.pop('Age')\n",
    "\n",
    "print(\"Dataframe after pop:\\n\", df)\n"
   ]
  },
  {
   "cell_type": "code",
   "execution_count": 50,
   "metadata": {},
   "outputs": [
    {
     "data": {
      "text/html": [
       "<div>\n",
       "<style scoped>\n",
       "    .dataframe tbody tr th:only-of-type {\n",
       "        vertical-align: middle;\n",
       "    }\n",
       "\n",
       "    .dataframe tbody tr th {\n",
       "        vertical-align: top;\n",
       "    }\n",
       "\n",
       "    .dataframe thead th {\n",
       "        text-align: right;\n",
       "    }\n",
       "</style>\n",
       "<table border=\"1\" class=\"dataframe\">\n",
       "  <thead>\n",
       "    <tr style=\"text-align: right;\">\n",
       "      <th></th>\n",
       "      <th>price</th>\n",
       "      <th>ticker</th>\n",
       "      <th>company</th>\n",
       "    </tr>\n",
       "  </thead>\n",
       "  <tbody>\n",
       "    <tr>\n",
       "      <th>0</th>\n",
       "      <td>95</td>\n",
       "      <td>AXP</td>\n",
       "      <td>American Express</td>\n",
       "    </tr>\n",
       "    <tr>\n",
       "      <th>1</th>\n",
       "      <td>25</td>\n",
       "      <td>CSCO</td>\n",
       "      <td>Cisco</td>\n",
       "    </tr>\n",
       "    <tr>\n",
       "      <th>2</th>\n",
       "      <td>85</td>\n",
       "      <td>DIS</td>\n",
       "      <td>Walt Disney</td>\n",
       "    </tr>\n",
       "    <tr>\n",
       "      <th>3</th>\n",
       "      <td>41</td>\n",
       "      <td>MSFT</td>\n",
       "      <td>Microsoft</td>\n",
       "    </tr>\n",
       "  </tbody>\n",
       "</table>\n",
       "</div>"
      ],
      "text/plain": [
       "   price ticker           company\n",
       "0     95    AXP  American Express\n",
       "1     25   CSCO             Cisco\n",
       "2     85    DIS       Walt Disney\n",
       "3     41   MSFT         Microsoft"
      ]
     },
     "execution_count": 50,
     "metadata": {},
     "output_type": "execute_result"
    }
   ],
   "source": [
    "# A sample dataframe containing compaany stack data\n",
    "\n",
    "data = pd.DataFrame({'price': [95, 25, 85, 41],\n",
    "                     'ticker': ['AXP', 'CSCO', 'DIS', 'MSFT'],\n",
    "                     'company': ['American Express', 'Cisco', 'Walt Disney', 'Microsoft']})\n",
    "\n",
    "data"
   ]
  },
  {
   "cell_type": "markdown",
   "metadata": {},
   "source": [
    "##### Fungsi DataFrame"
   ]
  },
  {
   "cell_type": "code",
   "execution_count": 51,
   "metadata": {},
   "outputs": [
    {
     "name": "stdout",
     "output_type": "stream",
     "text": [
      "Top five data:\n",
      "    price ticker           company\n",
      "0     95    AXP  American Express\n",
      "1     25   CSCO             Cisco\n",
      "2     85    DIS       Walt Disney\n",
      "3     41   MSFT         Microsoft\n",
      "Below 5 data:\n",
      "    price ticker           company\n",
      "0     95    AXP  American Express\n",
      "1     25   CSCO             Cisco\n",
      "2     85    DIS       Walt Disney\n",
      "3     41   MSFT         Microsoft\n"
     ]
    }
   ],
   "source": [
    "# Useful DataFrame functions\n",
    "\n",
    "# Inspecting top 5 rows of a dataframe\n",
    "print(\"Top five data:\\n\", data.head())\n",
    "\n",
    "# Inspencting below 5 rows of a dataframe\n",
    "print(\"Below 5 data:\\n\", data.tail())"
   ]
  },
  {
   "cell_type": "code",
   "execution_count": 52,
   "metadata": {},
   "outputs": [
    {
     "data": {
      "text/html": [
       "<div>\n",
       "<style scoped>\n",
       "    .dataframe tbody tr th:only-of-type {\n",
       "        vertical-align: middle;\n",
       "    }\n",
       "\n",
       "    .dataframe tbody tr th {\n",
       "        vertical-align: top;\n",
       "    }\n",
       "\n",
       "    .dataframe thead th {\n",
       "        text-align: right;\n",
       "    }\n",
       "</style>\n",
       "<table border=\"1\" class=\"dataframe\">\n",
       "  <thead>\n",
       "    <tr style=\"text-align: right;\">\n",
       "      <th></th>\n",
       "      <th>price</th>\n",
       "    </tr>\n",
       "  </thead>\n",
       "  <tbody>\n",
       "    <tr>\n",
       "      <th>count</th>\n",
       "      <td>4.000000</td>\n",
       "    </tr>\n",
       "    <tr>\n",
       "      <th>mean</th>\n",
       "      <td>61.500000</td>\n",
       "    </tr>\n",
       "    <tr>\n",
       "      <th>std</th>\n",
       "      <td>33.798422</td>\n",
       "    </tr>\n",
       "    <tr>\n",
       "      <th>min</th>\n",
       "      <td>25.000000</td>\n",
       "    </tr>\n",
       "    <tr>\n",
       "      <th>25%</th>\n",
       "      <td>37.000000</td>\n",
       "    </tr>\n",
       "    <tr>\n",
       "      <th>50%</th>\n",
       "      <td>63.000000</td>\n",
       "    </tr>\n",
       "    <tr>\n",
       "      <th>75%</th>\n",
       "      <td>87.500000</td>\n",
       "    </tr>\n",
       "    <tr>\n",
       "      <th>max</th>\n",
       "      <td>95.000000</td>\n",
       "    </tr>\n",
       "  </tbody>\n",
       "</table>\n",
       "</div>"
      ],
      "text/plain": [
       "           price\n",
       "count   4.000000\n",
       "mean   61.500000\n",
       "std    33.798422\n",
       "min    25.000000\n",
       "25%    37.000000\n",
       "50%    63.000000\n",
       "75%    87.500000\n",
       "max    95.000000"
      ]
     },
     "execution_count": 52,
     "metadata": {},
     "output_type": "execute_result"
    }
   ],
   "source": [
    "# Using describe() function to know statics\n",
    "\n",
    "# Checking data type of the data\n",
    "data.describe()"
   ]
  },
  {
   "cell_type": "code",
   "execution_count": 53,
   "metadata": {},
   "outputs": [
    {
     "name": "stdout",
     "output_type": "stream",
     "text": [
      "<class 'pandas.core.frame.DataFrame'>\n",
      "RangeIndex: 4 entries, 0 to 3\n",
      "Data columns (total 3 columns):\n",
      " #   Column   Non-Null Count  Dtype \n",
      "---  ------   --------------  ----- \n",
      " 0   price    4 non-null      int64 \n",
      " 1   ticker   4 non-null      object\n",
      " 2   company  4 non-null      object\n",
      "dtypes: int64(1), object(2)\n",
      "memory usage: 228.0+ bytes\n"
     ]
    }
   ],
   "source": [
    "# Checking information of the DataFrame\n",
    "\n",
    "# Information of the dataframe\n",
    "data.info()"
   ]
  },
  {
   "cell_type": "markdown",
   "metadata": {},
   "source": [
    "##### Menangani Data Hilang di DataFrame"
   ]
  },
  {
   "cell_type": "code",
   "execution_count": 54,
   "metadata": {},
   "outputs": [
    {
     "data": {
      "text/html": [
       "<div>\n",
       "<style scoped>\n",
       "    .dataframe tbody tr th:only-of-type {\n",
       "        vertical-align: middle;\n",
       "    }\n",
       "\n",
       "    .dataframe tbody tr th {\n",
       "        vertical-align: top;\n",
       "    }\n",
       "\n",
       "    .dataframe thead th {\n",
       "        text-align: right;\n",
       "    }\n",
       "</style>\n",
       "<table border=\"1\" class=\"dataframe\">\n",
       "  <thead>\n",
       "    <tr style=\"text-align: right;\">\n",
       "      <th></th>\n",
       "      <th>one</th>\n",
       "      <th>two</th>\n",
       "      <th>three</th>\n",
       "    </tr>\n",
       "  </thead>\n",
       "  <tbody>\n",
       "    <tr>\n",
       "      <th>a</th>\n",
       "      <td>1.254414</td>\n",
       "      <td>1.419102</td>\n",
       "      <td>-0.743856</td>\n",
       "    </tr>\n",
       "    <tr>\n",
       "      <th>b</th>\n",
       "      <td>NaN</td>\n",
       "      <td>NaN</td>\n",
       "      <td>NaN</td>\n",
       "    </tr>\n",
       "    <tr>\n",
       "      <th>c</th>\n",
       "      <td>-2.517437</td>\n",
       "      <td>-1.507096</td>\n",
       "      <td>1.149076</td>\n",
       "    </tr>\n",
       "    <tr>\n",
       "      <th>d</th>\n",
       "      <td>NaN</td>\n",
       "      <td>NaN</td>\n",
       "      <td>NaN</td>\n",
       "    </tr>\n",
       "    <tr>\n",
       "      <th>e</th>\n",
       "      <td>-1.193578</td>\n",
       "      <td>1.141042</td>\n",
       "      <td>1.509445</td>\n",
       "    </tr>\n",
       "    <tr>\n",
       "      <th>f</th>\n",
       "      <td>1.067775</td>\n",
       "      <td>-0.686589</td>\n",
       "      <td>0.014873</td>\n",
       "    </tr>\n",
       "    <tr>\n",
       "      <th>g</th>\n",
       "      <td>NaN</td>\n",
       "      <td>NaN</td>\n",
       "      <td>NaN</td>\n",
       "    </tr>\n",
       "    <tr>\n",
       "      <th>h</th>\n",
       "      <td>-0.375666</td>\n",
       "      <td>-0.038224</td>\n",
       "      <td>0.367974</td>\n",
       "    </tr>\n",
       "  </tbody>\n",
       "</table>\n",
       "</div>"
      ],
      "text/plain": [
       "        one       two     three\n",
       "a  1.254414  1.419102 -0.743856\n",
       "b       NaN       NaN       NaN\n",
       "c -2.517437 -1.507096  1.149076\n",
       "d       NaN       NaN       NaN\n",
       "e -1.193578  1.141042  1.509445\n",
       "f  1.067775 -0.686589  0.014873\n",
       "g       NaN       NaN       NaN\n",
       "h -0.375666 -0.038224  0.367974"
      ]
     },
     "execution_count": 54,
     "metadata": {},
     "output_type": "execute_result"
    }
   ],
   "source": [
    "# A sample DataFrame\n",
    "\n",
    "# A sample DataFrame\n",
    "df = pd.DataFrame(np.random.randn(5, 3), index=['a', 'c', 'e', 'f', 'h'], columns=['one', 'two', 'three'])\n",
    "\n",
    "# Creating a data with missing values by reindexing\n",
    "df2 = df.reindex(['a', 'b', 'c', 'd', 'e', 'f', 'g', 'h'])\n",
    "df2"
   ]
  },
  {
   "cell_type": "code",
   "execution_count": 55,
   "metadata": {},
   "outputs": [
    {
     "name": "stdout",
     "output_type": "stream",
     "text": [
      "     one    two  three\n",
      "a  False  False  False\n",
      "b   True   True   True\n",
      "c  False  False  False\n",
      "d   True   True   True\n",
      "e  False  False  False\n",
      "f  False  False  False\n",
      "g   True   True   True\n",
      "h  False  False  False\n",
      "Count of missing values:\n",
      " one      3\n",
      "two      3\n",
      "three    3\n",
      "dtype: int64\n"
     ]
    }
   ],
   "source": [
    "# Checking missing values using isnull()\n",
    "print(df2.isnull())\n",
    "missing_values_count = df2.isnull().sum()\n",
    "print(\"Count of missing values:\\n\", missing_values_count)\n",
    "\n"
   ]
  },
  {
   "cell_type": "code",
   "execution_count": 56,
   "metadata": {},
   "outputs": [
    {
     "data": {
      "text/html": [
       "<div>\n",
       "<style scoped>\n",
       "    .dataframe tbody tr th:only-of-type {\n",
       "        vertical-align: middle;\n",
       "    }\n",
       "\n",
       "    .dataframe tbody tr th {\n",
       "        vertical-align: top;\n",
       "    }\n",
       "\n",
       "    .dataframe thead th {\n",
       "        text-align: right;\n",
       "    }\n",
       "</style>\n",
       "<table border=\"1\" class=\"dataframe\">\n",
       "  <thead>\n",
       "    <tr style=\"text-align: right;\">\n",
       "      <th></th>\n",
       "      <th>one</th>\n",
       "      <th>two</th>\n",
       "      <th>three</th>\n",
       "    </tr>\n",
       "  </thead>\n",
       "  <tbody>\n",
       "    <tr>\n",
       "      <th>a</th>\n",
       "      <td>1.254414</td>\n",
       "      <td>1.419102</td>\n",
       "      <td>-0.743856</td>\n",
       "    </tr>\n",
       "    <tr>\n",
       "      <th>c</th>\n",
       "      <td>-2.517437</td>\n",
       "      <td>-1.507096</td>\n",
       "      <td>1.149076</td>\n",
       "    </tr>\n",
       "    <tr>\n",
       "      <th>e</th>\n",
       "      <td>-1.193578</td>\n",
       "      <td>1.141042</td>\n",
       "      <td>1.509445</td>\n",
       "    </tr>\n",
       "    <tr>\n",
       "      <th>f</th>\n",
       "      <td>1.067775</td>\n",
       "      <td>-0.686589</td>\n",
       "      <td>0.014873</td>\n",
       "    </tr>\n",
       "    <tr>\n",
       "      <th>h</th>\n",
       "      <td>-0.375666</td>\n",
       "      <td>-0.038224</td>\n",
       "      <td>0.367974</td>\n",
       "    </tr>\n",
       "  </tbody>\n",
       "</table>\n",
       "</div>"
      ],
      "text/plain": [
       "        one       two     three\n",
       "a  1.254414  1.419102 -0.743856\n",
       "c -2.517437 -1.507096  1.149076\n",
       "e -1.193578  1.141042  1.509445\n",
       "f  1.067775 -0.686589  0.014873\n",
       "h -0.375666 -0.038224  0.367974"
      ]
     },
     "execution_count": 56,
     "metadata": {},
     "output_type": "execute_result"
    }
   ],
   "source": [
    "# Removing all rows containing missing value\n",
    "\n",
    "df2 = df2.dropna()\n",
    "df2"
   ]
  },
  {
   "cell_type": "code",
   "execution_count": 57,
   "metadata": {},
   "outputs": [
    {
     "data": {
      "text/html": [
       "<div>\n",
       "<style scoped>\n",
       "    .dataframe tbody tr th:only-of-type {\n",
       "        vertical-align: middle;\n",
       "    }\n",
       "\n",
       "    .dataframe tbody tr th {\n",
       "        vertical-align: top;\n",
       "    }\n",
       "\n",
       "    .dataframe thead th {\n",
       "        text-align: right;\n",
       "    }\n",
       "</style>\n",
       "<table border=\"1\" class=\"dataframe\">\n",
       "  <thead>\n",
       "    <tr style=\"text-align: right;\">\n",
       "      <th></th>\n",
       "      <th>one</th>\n",
       "      <th>two</th>\n",
       "      <th>three</th>\n",
       "    </tr>\n",
       "  </thead>\n",
       "  <tbody>\n",
       "    <tr>\n",
       "      <th>a</th>\n",
       "      <td>1.254414</td>\n",
       "      <td>1.419102</td>\n",
       "      <td>-0.743856</td>\n",
       "    </tr>\n",
       "    <tr>\n",
       "      <th>c</th>\n",
       "      <td>-2.517437</td>\n",
       "      <td>-1.507096</td>\n",
       "      <td>1.149076</td>\n",
       "    </tr>\n",
       "    <tr>\n",
       "      <th>e</th>\n",
       "      <td>-1.193578</td>\n",
       "      <td>1.141042</td>\n",
       "      <td>1.509445</td>\n",
       "    </tr>\n",
       "    <tr>\n",
       "      <th>f</th>\n",
       "      <td>1.067775</td>\n",
       "      <td>-0.686589</td>\n",
       "      <td>0.014873</td>\n",
       "    </tr>\n",
       "    <tr>\n",
       "      <th>h</th>\n",
       "      <td>-0.375666</td>\n",
       "      <td>-0.038224</td>\n",
       "      <td>0.367974</td>\n",
       "    </tr>\n",
       "  </tbody>\n",
       "</table>\n",
       "</div>"
      ],
      "text/plain": [
       "        one       two     three\n",
       "a  1.254414  1.419102 -0.743856\n",
       "c -2.517437 -1.507096  1.149076\n",
       "e -1.193578  1.141042  1.509445\n",
       "f  1.067775 -0.686589  0.014873\n",
       "h -0.375666 -0.038224  0.367974"
      ]
     },
     "execution_count": 57,
     "metadata": {},
     "output_type": "execute_result"
    }
   ],
   "source": [
    "# Filling missing values\n",
    "\n",
    "df3 = df2.fillna(0)\n",
    "df3"
   ]
  }
 ],
 "metadata": {
  "kernelspec": {
   "display_name": "Python 3",
   "language": "python",
   "name": "python3"
  },
  "language_info": {
   "codemirror_mode": {
    "name": "ipython",
    "version": 3
   },
   "file_extension": ".py",
   "mimetype": "text/x-python",
   "name": "python",
   "nbconvert_exporter": "python",
   "pygments_lexer": "ipython3",
   "version": "3.12.3"
  }
 },
 "nbformat": 4,
 "nbformat_minor": 2
}
