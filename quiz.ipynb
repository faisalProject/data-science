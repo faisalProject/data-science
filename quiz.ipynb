{
 "cells": [
  {
   "cell_type": "markdown",
   "metadata": {},
   "source": [
    "##### 1. Import dataset file Airdata.csv diatas, tampilkan sample data!"
   ]
  },
  {
   "cell_type": "code",
   "execution_count": 1,
   "metadata": {},
   "outputs": [
    {
     "data": {
      "text/html": [
       "<div>\n",
       "<style scoped>\n",
       "    .dataframe tbody tr th:only-of-type {\n",
       "        vertical-align: middle;\n",
       "    }\n",
       "\n",
       "    .dataframe tbody tr th {\n",
       "        vertical-align: top;\n",
       "    }\n",
       "\n",
       "    .dataframe thead th {\n",
       "        text-align: right;\n",
       "    }\n",
       "</style>\n",
       "<table border=\"1\" class=\"dataframe\">\n",
       "  <thead>\n",
       "    <tr style=\"text-align: right;\">\n",
       "      <th></th>\n",
       "      <th>DateTime</th>\n",
       "      <th>Temperature</th>\n",
       "      <th>Humidity</th>\n",
       "      <th>Wind_Speed</th>\n",
       "      <th>Wind_Direction</th>\n",
       "      <th>NO2_Location_A</th>\n",
       "      <th>NO2_Location_B</th>\n",
       "      <th>NO2_Location_C</th>\n",
       "    </tr>\n",
       "  </thead>\n",
       "  <tbody>\n",
       "    <tr>\n",
       "      <th>0</th>\n",
       "      <td>1/1/2020 0:00</td>\n",
       "      <td>2.180529</td>\n",
       "      <td>87</td>\n",
       "      <td>1.484318</td>\n",
       "      <td>75.963760</td>\n",
       "      <td>39.23</td>\n",
       "      <td>52.88</td>\n",
       "      <td>62.37</td>\n",
       "    </tr>\n",
       "    <tr>\n",
       "      <th>1</th>\n",
       "      <td>1/1/2020 1:00</td>\n",
       "      <td>1.490529</td>\n",
       "      <td>89</td>\n",
       "      <td>2.741678</td>\n",
       "      <td>113.198590</td>\n",
       "      <td>38.30</td>\n",
       "      <td>44.95</td>\n",
       "      <td>52.53</td>\n",
       "    </tr>\n",
       "    <tr>\n",
       "      <th>2</th>\n",
       "      <td>1/1/2020 2:00</td>\n",
       "      <td>1.690529</td>\n",
       "      <td>85</td>\n",
       "      <td>3.563818</td>\n",
       "      <td>135.000000</td>\n",
       "      <td>NaN</td>\n",
       "      <td>48.40</td>\n",
       "      <td>54.80</td>\n",
       "    </tr>\n",
       "    <tr>\n",
       "      <th>3</th>\n",
       "      <td>1/1/2020 3:00</td>\n",
       "      <td>1.430529</td>\n",
       "      <td>84</td>\n",
       "      <td>2.811690</td>\n",
       "      <td>129.805570</td>\n",
       "      <td>37.28</td>\n",
       "      <td>47.18</td>\n",
       "      <td>50.80</td>\n",
       "    </tr>\n",
       "    <tr>\n",
       "      <th>4</th>\n",
       "      <td>1/1/2020 4:00</td>\n",
       "      <td>0.840529</td>\n",
       "      <td>86</td>\n",
       "      <td>1.800000</td>\n",
       "      <td>126.869896</td>\n",
       "      <td>29.97</td>\n",
       "      <td>41.48</td>\n",
       "      <td>54.43</td>\n",
       "    </tr>\n",
       "    <tr>\n",
       "      <th>...</th>\n",
       "      <td>...</td>\n",
       "      <td>...</td>\n",
       "      <td>...</td>\n",
       "      <td>...</td>\n",
       "      <td>...</td>\n",
       "      <td>...</td>\n",
       "      <td>...</td>\n",
       "      <td>...</td>\n",
       "    </tr>\n",
       "    <tr>\n",
       "      <th>8779</th>\n",
       "      <td>12/31/2020 19:00</td>\n",
       "      <td>4.920528</td>\n",
       "      <td>72</td>\n",
       "      <td>4.553680</td>\n",
       "      <td>251.565060</td>\n",
       "      <td>53.44</td>\n",
       "      <td>32.65</td>\n",
       "      <td>66.82</td>\n",
       "    </tr>\n",
       "    <tr>\n",
       "      <th>8780</th>\n",
       "      <td>12/31/2020 20:00</td>\n",
       "      <td>4.990529</td>\n",
       "      <td>74</td>\n",
       "      <td>3.259939</td>\n",
       "      <td>186.340200</td>\n",
       "      <td>49.80</td>\n",
       "      <td>34.03</td>\n",
       "      <td>67.31</td>\n",
       "    </tr>\n",
       "    <tr>\n",
       "      <th>8781</th>\n",
       "      <td>12/31/2020 21:00</td>\n",
       "      <td>4.360529</td>\n",
       "      <td>84</td>\n",
       "      <td>10.587917</td>\n",
       "      <td>252.181120</td>\n",
       "      <td>43.32</td>\n",
       "      <td>25.55</td>\n",
       "      <td>59.33</td>\n",
       "    </tr>\n",
       "    <tr>\n",
       "      <th>8782</th>\n",
       "      <td>12/31/2020 22:00</td>\n",
       "      <td>3.820528</td>\n",
       "      <td>88</td>\n",
       "      <td>8.435069</td>\n",
       "      <td>219.805570</td>\n",
       "      <td>39.88</td>\n",
       "      <td>19.90</td>\n",
       "      <td>43.70</td>\n",
       "    </tr>\n",
       "    <tr>\n",
       "      <th>8783</th>\n",
       "      <td>12/31/2020 23:00</td>\n",
       "      <td>3.170529</td>\n",
       "      <td>89</td>\n",
       "      <td>6.792466</td>\n",
       "      <td>212.005390</td>\n",
       "      <td>39.04</td>\n",
       "      <td>30.33</td>\n",
       "      <td>46.87</td>\n",
       "    </tr>\n",
       "  </tbody>\n",
       "</table>\n",
       "<p>8784 rows × 8 columns</p>\n",
       "</div>"
      ],
      "text/plain": [
       "              DateTime  Temperature  Humidity  Wind_Speed  Wind_Direction  \\\n",
       "0        1/1/2020 0:00     2.180529        87    1.484318       75.963760   \n",
       "1        1/1/2020 1:00     1.490529        89    2.741678      113.198590   \n",
       "2        1/1/2020 2:00     1.690529        85    3.563818      135.000000   \n",
       "3        1/1/2020 3:00     1.430529        84    2.811690      129.805570   \n",
       "4        1/1/2020 4:00     0.840529        86    1.800000      126.869896   \n",
       "...                ...          ...       ...         ...             ...   \n",
       "8779  12/31/2020 19:00     4.920528        72    4.553680      251.565060   \n",
       "8780  12/31/2020 20:00     4.990529        74    3.259939      186.340200   \n",
       "8781  12/31/2020 21:00     4.360529        84   10.587917      252.181120   \n",
       "8782  12/31/2020 22:00     3.820528        88    8.435069      219.805570   \n",
       "8783  12/31/2020 23:00     3.170529        89    6.792466      212.005390   \n",
       "\n",
       "      NO2_Location_A  NO2_Location_B  NO2_Location_C  \n",
       "0              39.23           52.88           62.37  \n",
       "1              38.30           44.95           52.53  \n",
       "2                NaN           48.40           54.80  \n",
       "3              37.28           47.18           50.80  \n",
       "4              29.97           41.48           54.43  \n",
       "...              ...             ...             ...  \n",
       "8779           53.44           32.65           66.82  \n",
       "8780           49.80           34.03           67.31  \n",
       "8781           43.32           25.55           59.33  \n",
       "8782           39.88           19.90           43.70  \n",
       "8783           39.04           30.33           46.87  \n",
       "\n",
       "[8784 rows x 8 columns]"
      ]
     },
     "execution_count": 1,
     "metadata": {},
     "output_type": "execute_result"
    }
   ],
   "source": [
    "\n",
    "import pandas as pd\n",
    "\n",
    "airdata = pd.read_csv('dataset/Airdata.csv')\n",
    "airdata"
   ]
  },
  {
   "cell_type": "markdown",
   "metadata": {},
   "source": [
    "##### 2. Sebutkan nama kolom dan tipe data dari setiap kolom yang terdapat dalam dataset!"
   ]
  },
  {
   "cell_type": "code",
   "execution_count": 2,
   "metadata": {},
   "outputs": [
    {
     "data": {
      "text/plain": [
       "Index(['DateTime', 'Temperature', 'Humidity', 'Wind_Speed', 'Wind_Direction',\n",
       "       'NO2_Location_A', 'NO2_Location_B', 'NO2_Location_C'],\n",
       "      dtype='object')"
      ]
     },
     "execution_count": 2,
     "metadata": {},
     "output_type": "execute_result"
    }
   ],
   "source": [
    "airdata.columns"
   ]
  },
  {
   "cell_type": "code",
   "execution_count": 3,
   "metadata": {},
   "outputs": [
    {
     "data": {
      "text/plain": [
       "DateTime           object\n",
       "Temperature       float64\n",
       "Humidity            int64\n",
       "Wind_Speed        float64\n",
       "Wind_Direction    float64\n",
       "NO2_Location_A    float64\n",
       "NO2_Location_B    float64\n",
       "NO2_Location_C    float64\n",
       "dtype: object"
      ]
     },
     "execution_count": 3,
     "metadata": {},
     "output_type": "execute_result"
    }
   ],
   "source": [
    "airdata.dtypes"
   ]
  },
  {
   "cell_type": "markdown",
   "metadata": {},
   "source": [
    "##### 3. Berapa jumlah baris data yang terdapat dalam dataset!\n"
   ]
  },
  {
   "cell_type": "code",
   "execution_count": 4,
   "metadata": {},
   "outputs": [
    {
     "data": {
      "text/plain": [
       "8784"
      ]
     },
     "execution_count": 4,
     "metadata": {},
     "output_type": "execute_result"
    }
   ],
   "source": [
    "len(airdata)"
   ]
  },
  {
   "cell_type": "markdown",
   "metadata": {},
   "source": [
    "##### 4. Sebutkan nilai mean dari setiap kolom dalam dataset!\n"
   ]
  },
  {
   "cell_type": "code",
   "execution_count": 5,
   "metadata": {},
   "outputs": [
    {
     "name": "stdout",
     "output_type": "stream",
     "text": [
      "Temperature        13.110913\n",
      "Humidity           66.679417\n",
      "Wind_Speed         11.279210\n",
      "Wind_Direction    197.595605\n",
      "NO2_Location_A     22.047992\n",
      "NO2_Location_B     29.000569\n",
      "NO2_Location_C     45.347931\n",
      "dtype: float64\n"
     ]
    }
   ],
   "source": [
    "print(airdata.select_dtypes(include='number').mean())"
   ]
  },
  {
   "cell_type": "markdown",
   "metadata": {},
   "source": [
    "##### 5. Sebutkkan nilai terkecil (min) dari setiap kolom dalam dataset!"
   ]
  },
  {
   "cell_type": "code",
   "execution_count": 6,
   "metadata": {},
   "outputs": [
    {
     "data": {
      "text/plain": [
       "DateTime          1/1/2020 0:00\n",
       "Temperature           -2.789471\n",
       "Humidity                     20\n",
       "Wind_Speed                  0.0\n",
       "Wind_Direction         1.218872\n",
       "NO2_Location_A            -0.46\n",
       "NO2_Location_B             0.43\n",
       "NO2_Location_C             0.15\n",
       "dtype: object"
      ]
     },
     "execution_count": 6,
     "metadata": {},
     "output_type": "execute_result"
    }
   ],
   "source": [
    "airdata.min()"
   ]
  },
  {
   "cell_type": "markdown",
   "metadata": {},
   "source": [
    "##### 6. Sebutkan nilai tertinggi (max) dari setiap kolom dalam dataset!"
   ]
  },
  {
   "cell_type": "code",
   "execution_count": 7,
   "metadata": {},
   "outputs": [
    {
     "data": {
      "text/plain": [
       "DateTime          9/9/2020 9:00\n",
       "Temperature            33.87053\n",
       "Humidity                     98\n",
       "Wind_Speed             65.44677\n",
       "Wind_Direction            360.0\n",
       "NO2_Location_A            116.6\n",
       "NO2_Location_B           151.85\n",
       "NO2_Location_C           168.28\n",
       "dtype: object"
      ]
     },
     "execution_count": 7,
     "metadata": {},
     "output_type": "execute_result"
    }
   ],
   "source": [
    "airdata.max()"
   ]
  },
  {
   "cell_type": "markdown",
   "metadata": {},
   "source": [
    "##### 7. Berapa nilai ‘Wind_Speed’ pada index 5000?\n"
   ]
  },
  {
   "cell_type": "code",
   "execution_count": 8,
   "metadata": {},
   "outputs": [
    {
     "data": {
      "text/plain": [
       "Wind_Speed    8.373386\n",
       "Name: 5000, dtype: object"
      ]
     },
     "execution_count": 8,
     "metadata": {},
     "output_type": "execute_result"
    }
   ],
   "source": [
    "airdata.loc[5000, ['Wind_Speed']]"
   ]
  },
  {
   "cell_type": "markdown",
   "metadata": {},
   "source": [
    "##### 8. Berapa jumlah missing value setiap kolom dalam dataset!"
   ]
  },
  {
   "cell_type": "code",
   "execution_count": 9,
   "metadata": {},
   "outputs": [
    {
     "data": {
      "text/plain": [
       "DateTime            0\n",
       "Temperature         0\n",
       "Humidity            0\n",
       "Wind_Speed          0\n",
       "Wind_Direction      0\n",
       "NO2_Location_A    120\n",
       "NO2_Location_B    580\n",
       "NO2_Location_C    132\n",
       "dtype: int64"
      ]
     },
     "execution_count": 9,
     "metadata": {},
     "output_type": "execute_result"
    }
   ],
   "source": [
    "missing_values = airdata.isnull().sum()\n",
    "missing_values"
   ]
  },
  {
   "cell_type": "markdown",
   "metadata": {},
   "source": [
    "##### 9. Berapa persen jumlah missing value yang ada jika dibandingkan dengan jumlah seluruh dataset?\n"
   ]
  },
  {
   "cell_type": "code",
   "execution_count": 10,
   "metadata": {},
   "outputs": [
    {
     "data": {
      "text/plain": [
       "DateTime          0.000000\n",
       "Temperature       0.000000\n",
       "Humidity          0.000000\n",
       "Wind_Speed        0.000000\n",
       "Wind_Direction    0.000000\n",
       "NO2_Location_A    0.170765\n",
       "NO2_Location_B    0.825364\n",
       "NO2_Location_C    0.187842\n",
       "dtype: float64"
      ]
     },
     "execution_count": 10,
     "metadata": {},
     "output_type": "execute_result"
    }
   ],
   "source": [
    "total_element = airdata.size\n",
    "missing_percentage = (missing_values / total_element) * 100\n",
    "missing_percentage"
   ]
  },
  {
   "cell_type": "markdown",
   "metadata": {},
   "source": [
    "##### 10. Isi missing_value dengan nilai mean dari setiap kolom! Tampilkan contohnya!"
   ]
  },
  {
   "cell_type": "code",
   "execution_count": 11,
   "metadata": {},
   "outputs": [],
   "source": [
    "airdata['NO2_Location_A'] = airdata['NO2_Location_A'].fillna(airdata['NO2_Location_A'].mean())\n",
    "airdata['NO2_Location_B'] = airdata['NO2_Location_B'].fillna(airdata['NO2_Location_B'].mean())\n",
    "airdata['NO2_Location_C'] = airdata['NO2_Location_C'].fillna(airdata['NO2_Location_C'].mean())"
   ]
  },
  {
   "cell_type": "code",
   "execution_count": 12,
   "metadata": {},
   "outputs": [
    {
     "data": {
      "text/plain": [
       "DateTime          0\n",
       "Temperature       0\n",
       "Humidity          0\n",
       "Wind_Speed        0\n",
       "Wind_Direction    0\n",
       "NO2_Location_A    0\n",
       "NO2_Location_B    0\n",
       "NO2_Location_C    0\n",
       "dtype: int64"
      ]
     },
     "execution_count": 12,
     "metadata": {},
     "output_type": "execute_result"
    }
   ],
   "source": [
    "airdata.isnull().sum()"
   ]
  },
  {
   "cell_type": "code",
   "execution_count": 13,
   "metadata": {},
   "outputs": [
    {
     "data": {
      "text/html": [
       "<div>\n",
       "<style scoped>\n",
       "    .dataframe tbody tr th:only-of-type {\n",
       "        vertical-align: middle;\n",
       "    }\n",
       "\n",
       "    .dataframe tbody tr th {\n",
       "        vertical-align: top;\n",
       "    }\n",
       "\n",
       "    .dataframe thead th {\n",
       "        text-align: right;\n",
       "    }\n",
       "</style>\n",
       "<table border=\"1\" class=\"dataframe\">\n",
       "  <thead>\n",
       "    <tr style=\"text-align: right;\">\n",
       "      <th></th>\n",
       "      <th>DateTime</th>\n",
       "      <th>Temperature</th>\n",
       "      <th>Humidity</th>\n",
       "      <th>Wind_Speed</th>\n",
       "      <th>Wind_Direction</th>\n",
       "      <th>NO2_Location_A</th>\n",
       "      <th>NO2_Location_B</th>\n",
       "      <th>NO2_Location_C</th>\n",
       "    </tr>\n",
       "  </thead>\n",
       "  <tbody>\n",
       "    <tr>\n",
       "      <th>0</th>\n",
       "      <td>1/1/2020 0:00</td>\n",
       "      <td>2.180529</td>\n",
       "      <td>87</td>\n",
       "      <td>1.484318</td>\n",
       "      <td>75.963760</td>\n",
       "      <td>39.230000</td>\n",
       "      <td>52.88</td>\n",
       "      <td>62.37</td>\n",
       "    </tr>\n",
       "    <tr>\n",
       "      <th>1</th>\n",
       "      <td>1/1/2020 1:00</td>\n",
       "      <td>1.490529</td>\n",
       "      <td>89</td>\n",
       "      <td>2.741678</td>\n",
       "      <td>113.198590</td>\n",
       "      <td>38.300000</td>\n",
       "      <td>44.95</td>\n",
       "      <td>52.53</td>\n",
       "    </tr>\n",
       "    <tr>\n",
       "      <th>2</th>\n",
       "      <td>1/1/2020 2:00</td>\n",
       "      <td>1.690529</td>\n",
       "      <td>85</td>\n",
       "      <td>3.563818</td>\n",
       "      <td>135.000000</td>\n",
       "      <td>22.047992</td>\n",
       "      <td>48.40</td>\n",
       "      <td>54.80</td>\n",
       "    </tr>\n",
       "    <tr>\n",
       "      <th>3</th>\n",
       "      <td>1/1/2020 3:00</td>\n",
       "      <td>1.430529</td>\n",
       "      <td>84</td>\n",
       "      <td>2.811690</td>\n",
       "      <td>129.805570</td>\n",
       "      <td>37.280000</td>\n",
       "      <td>47.18</td>\n",
       "      <td>50.80</td>\n",
       "    </tr>\n",
       "    <tr>\n",
       "      <th>4</th>\n",
       "      <td>1/1/2020 4:00</td>\n",
       "      <td>0.840529</td>\n",
       "      <td>86</td>\n",
       "      <td>1.800000</td>\n",
       "      <td>126.869896</td>\n",
       "      <td>29.970000</td>\n",
       "      <td>41.48</td>\n",
       "      <td>54.43</td>\n",
       "    </tr>\n",
       "    <tr>\n",
       "      <th>...</th>\n",
       "      <td>...</td>\n",
       "      <td>...</td>\n",
       "      <td>...</td>\n",
       "      <td>...</td>\n",
       "      <td>...</td>\n",
       "      <td>...</td>\n",
       "      <td>...</td>\n",
       "      <td>...</td>\n",
       "    </tr>\n",
       "    <tr>\n",
       "      <th>8779</th>\n",
       "      <td>12/31/2020 19:00</td>\n",
       "      <td>4.920528</td>\n",
       "      <td>72</td>\n",
       "      <td>4.553680</td>\n",
       "      <td>251.565060</td>\n",
       "      <td>53.440000</td>\n",
       "      <td>32.65</td>\n",
       "      <td>66.82</td>\n",
       "    </tr>\n",
       "    <tr>\n",
       "      <th>8780</th>\n",
       "      <td>12/31/2020 20:00</td>\n",
       "      <td>4.990529</td>\n",
       "      <td>74</td>\n",
       "      <td>3.259939</td>\n",
       "      <td>186.340200</td>\n",
       "      <td>49.800000</td>\n",
       "      <td>34.03</td>\n",
       "      <td>67.31</td>\n",
       "    </tr>\n",
       "    <tr>\n",
       "      <th>8781</th>\n",
       "      <td>12/31/2020 21:00</td>\n",
       "      <td>4.360529</td>\n",
       "      <td>84</td>\n",
       "      <td>10.587917</td>\n",
       "      <td>252.181120</td>\n",
       "      <td>43.320000</td>\n",
       "      <td>25.55</td>\n",
       "      <td>59.33</td>\n",
       "    </tr>\n",
       "    <tr>\n",
       "      <th>8782</th>\n",
       "      <td>12/31/2020 22:00</td>\n",
       "      <td>3.820528</td>\n",
       "      <td>88</td>\n",
       "      <td>8.435069</td>\n",
       "      <td>219.805570</td>\n",
       "      <td>39.880000</td>\n",
       "      <td>19.90</td>\n",
       "      <td>43.70</td>\n",
       "    </tr>\n",
       "    <tr>\n",
       "      <th>8783</th>\n",
       "      <td>12/31/2020 23:00</td>\n",
       "      <td>3.170529</td>\n",
       "      <td>89</td>\n",
       "      <td>6.792466</td>\n",
       "      <td>212.005390</td>\n",
       "      <td>39.040000</td>\n",
       "      <td>30.33</td>\n",
       "      <td>46.87</td>\n",
       "    </tr>\n",
       "  </tbody>\n",
       "</table>\n",
       "<p>8784 rows × 8 columns</p>\n",
       "</div>"
      ],
      "text/plain": [
       "              DateTime  Temperature  Humidity  Wind_Speed  Wind_Direction  \\\n",
       "0        1/1/2020 0:00     2.180529        87    1.484318       75.963760   \n",
       "1        1/1/2020 1:00     1.490529        89    2.741678      113.198590   \n",
       "2        1/1/2020 2:00     1.690529        85    3.563818      135.000000   \n",
       "3        1/1/2020 3:00     1.430529        84    2.811690      129.805570   \n",
       "4        1/1/2020 4:00     0.840529        86    1.800000      126.869896   \n",
       "...                ...          ...       ...         ...             ...   \n",
       "8779  12/31/2020 19:00     4.920528        72    4.553680      251.565060   \n",
       "8780  12/31/2020 20:00     4.990529        74    3.259939      186.340200   \n",
       "8781  12/31/2020 21:00     4.360529        84   10.587917      252.181120   \n",
       "8782  12/31/2020 22:00     3.820528        88    8.435069      219.805570   \n",
       "8783  12/31/2020 23:00     3.170529        89    6.792466      212.005390   \n",
       "\n",
       "      NO2_Location_A  NO2_Location_B  NO2_Location_C  \n",
       "0          39.230000           52.88           62.37  \n",
       "1          38.300000           44.95           52.53  \n",
       "2          22.047992           48.40           54.80  \n",
       "3          37.280000           47.18           50.80  \n",
       "4          29.970000           41.48           54.43  \n",
       "...              ...             ...             ...  \n",
       "8779       53.440000           32.65           66.82  \n",
       "8780       49.800000           34.03           67.31  \n",
       "8781       43.320000           25.55           59.33  \n",
       "8782       39.880000           19.90           43.70  \n",
       "8783       39.040000           30.33           46.87  \n",
       "\n",
       "[8784 rows x 8 columns]"
      ]
     },
     "execution_count": 13,
     "metadata": {},
     "output_type": "execute_result"
    }
   ],
   "source": [
    "airdata"
   ]
  },
  {
   "cell_type": "markdown",
   "metadata": {},
   "source": [
    "##### 11. Lakukan normalisasi pada dataset yang sudah tidak terdapat missing value! Tampilkan hasilnya!"
   ]
  },
  {
   "cell_type": "code",
   "execution_count": 15,
   "metadata": {},
   "outputs": [
    {
     "data": {
      "text/html": [
       "<div>\n",
       "<style scoped>\n",
       "    .dataframe tbody tr th:only-of-type {\n",
       "        vertical-align: middle;\n",
       "    }\n",
       "\n",
       "    .dataframe tbody tr th {\n",
       "        vertical-align: top;\n",
       "    }\n",
       "\n",
       "    .dataframe thead th {\n",
       "        text-align: right;\n",
       "    }\n",
       "</style>\n",
       "<table border=\"1\" class=\"dataframe\">\n",
       "  <thead>\n",
       "    <tr style=\"text-align: right;\">\n",
       "      <th></th>\n",
       "      <th>DateTime</th>\n",
       "      <th>Temperature</th>\n",
       "      <th>Humidity</th>\n",
       "      <th>Wind_Speed</th>\n",
       "      <th>Wind_Direction</th>\n",
       "      <th>NO2_Location_A</th>\n",
       "      <th>NO2_Location_B</th>\n",
       "      <th>NO2_Location_C</th>\n",
       "    </tr>\n",
       "  </thead>\n",
       "  <tbody>\n",
       "    <tr>\n",
       "      <th>0</th>\n",
       "      <td>1/1/2020 0:00</td>\n",
       "      <td>0.135570</td>\n",
       "      <td>0.858974</td>\n",
       "      <td>0.022680</td>\n",
       "      <td>0.208330</td>\n",
       "      <td>0.339057</td>\n",
       "      <td>0.346388</td>\n",
       "      <td>0.370071</td>\n",
       "    </tr>\n",
       "    <tr>\n",
       "      <th>1</th>\n",
       "      <td>1/1/2020 1:00</td>\n",
       "      <td>0.116748</td>\n",
       "      <td>0.884615</td>\n",
       "      <td>0.041892</td>\n",
       "      <td>0.312112</td>\n",
       "      <td>0.331112</td>\n",
       "      <td>0.294017</td>\n",
       "      <td>0.311545</td>\n",
       "    </tr>\n",
       "    <tr>\n",
       "      <th>2</th>\n",
       "      <td>1/1/2020 2:00</td>\n",
       "      <td>0.122204</td>\n",
       "      <td>0.833333</td>\n",
       "      <td>0.054454</td>\n",
       "      <td>0.372877</td>\n",
       "      <td>0.192277</td>\n",
       "      <td>0.316801</td>\n",
       "      <td>0.325046</td>\n",
       "    </tr>\n",
       "    <tr>\n",
       "      <th>3</th>\n",
       "      <td>1/1/2020 3:00</td>\n",
       "      <td>0.115112</td>\n",
       "      <td>0.820513</td>\n",
       "      <td>0.042961</td>\n",
       "      <td>0.358399</td>\n",
       "      <td>0.322399</td>\n",
       "      <td>0.308744</td>\n",
       "      <td>0.301255</td>\n",
       "    </tr>\n",
       "    <tr>\n",
       "      <th>4</th>\n",
       "      <td>1/1/2020 4:00</td>\n",
       "      <td>0.099018</td>\n",
       "      <td>0.846154</td>\n",
       "      <td>0.027503</td>\n",
       "      <td>0.350216</td>\n",
       "      <td>0.259952</td>\n",
       "      <td>0.271100</td>\n",
       "      <td>0.322845</td>\n",
       "    </tr>\n",
       "    <tr>\n",
       "      <th>...</th>\n",
       "      <td>...</td>\n",
       "      <td>...</td>\n",
       "      <td>...</td>\n",
       "      <td>...</td>\n",
       "      <td>...</td>\n",
       "      <td>...</td>\n",
       "      <td>...</td>\n",
       "      <td>...</td>\n",
       "    </tr>\n",
       "    <tr>\n",
       "      <th>8779</th>\n",
       "      <td>12/31/2020 19:00</td>\n",
       "      <td>0.210311</td>\n",
       "      <td>0.666667</td>\n",
       "      <td>0.069578</td>\n",
       "      <td>0.697769</td>\n",
       "      <td>0.460448</td>\n",
       "      <td>0.212786</td>\n",
       "      <td>0.396538</td>\n",
       "    </tr>\n",
       "    <tr>\n",
       "      <th>8780</th>\n",
       "      <td>12/31/2020 20:00</td>\n",
       "      <td>0.212220</td>\n",
       "      <td>0.692308</td>\n",
       "      <td>0.049811</td>\n",
       "      <td>0.515973</td>\n",
       "      <td>0.429352</td>\n",
       "      <td>0.221899</td>\n",
       "      <td>0.399453</td>\n",
       "    </tr>\n",
       "    <tr>\n",
       "      <th>8781</th>\n",
       "      <td>12/31/2020 21:00</td>\n",
       "      <td>0.195035</td>\n",
       "      <td>0.820513</td>\n",
       "      <td>0.161779</td>\n",
       "      <td>0.699486</td>\n",
       "      <td>0.373996</td>\n",
       "      <td>0.165896</td>\n",
       "      <td>0.351990</td>\n",
       "    </tr>\n",
       "    <tr>\n",
       "      <th>8782</th>\n",
       "      <td>12/31/2020 22:00</td>\n",
       "      <td>0.180306</td>\n",
       "      <td>0.871795</td>\n",
       "      <td>0.128884</td>\n",
       "      <td>0.609248</td>\n",
       "      <td>0.344610</td>\n",
       "      <td>0.128583</td>\n",
       "      <td>0.259026</td>\n",
       "    </tr>\n",
       "    <tr>\n",
       "      <th>8783</th>\n",
       "      <td>12/31/2020 23:00</td>\n",
       "      <td>0.162575</td>\n",
       "      <td>0.884615</td>\n",
       "      <td>0.103786</td>\n",
       "      <td>0.587507</td>\n",
       "      <td>0.337434</td>\n",
       "      <td>0.197464</td>\n",
       "      <td>0.277880</td>\n",
       "    </tr>\n",
       "  </tbody>\n",
       "</table>\n",
       "<p>8784 rows × 8 columns</p>\n",
       "</div>"
      ],
      "text/plain": [
       "              DateTime  Temperature  Humidity  Wind_Speed  Wind_Direction  \\\n",
       "0        1/1/2020 0:00     0.135570  0.858974    0.022680        0.208330   \n",
       "1        1/1/2020 1:00     0.116748  0.884615    0.041892        0.312112   \n",
       "2        1/1/2020 2:00     0.122204  0.833333    0.054454        0.372877   \n",
       "3        1/1/2020 3:00     0.115112  0.820513    0.042961        0.358399   \n",
       "4        1/1/2020 4:00     0.099018  0.846154    0.027503        0.350216   \n",
       "...                ...          ...       ...         ...             ...   \n",
       "8779  12/31/2020 19:00     0.210311  0.666667    0.069578        0.697769   \n",
       "8780  12/31/2020 20:00     0.212220  0.692308    0.049811        0.515973   \n",
       "8781  12/31/2020 21:00     0.195035  0.820513    0.161779        0.699486   \n",
       "8782  12/31/2020 22:00     0.180306  0.871795    0.128884        0.609248   \n",
       "8783  12/31/2020 23:00     0.162575  0.884615    0.103786        0.587507   \n",
       "\n",
       "      NO2_Location_A  NO2_Location_B  NO2_Location_C  \n",
       "0           0.339057        0.346388        0.370071  \n",
       "1           0.331112        0.294017        0.311545  \n",
       "2           0.192277        0.316801        0.325046  \n",
       "3           0.322399        0.308744        0.301255  \n",
       "4           0.259952        0.271100        0.322845  \n",
       "...              ...             ...             ...  \n",
       "8779        0.460448        0.212786        0.396538  \n",
       "8780        0.429352        0.221899        0.399453  \n",
       "8781        0.373996        0.165896        0.351990  \n",
       "8782        0.344610        0.128583        0.259026  \n",
       "8783        0.337434        0.197464        0.277880  \n",
       "\n",
       "[8784 rows x 8 columns]"
      ]
     },
     "execution_count": 15,
     "metadata": {},
     "output_type": "execute_result"
    }
   ],
   "source": [
    "from sklearn.preprocessing import MinMaxScaler\n",
    "\n",
    "date_time_col = airdata['DateTime']\n",
    "df_numeric = airdata.drop(columns=['DateTime'])\n",
    "\n",
    "# Inisialisasi MinMaxScaler\n",
    "scaler = MinMaxScaler()\n",
    "\n",
    "# Melakukan normalisasi pada kolom numerik\n",
    "df_normalized = pd.DataFrame(scaler.fit_transform(df_numeric), columns=df_numeric.columns)\n",
    "\n",
    "# Menambahkan kembali kolom DateTime\n",
    "df_normalized.insert(0, 'DateTime', date_time_col)\n",
    "df_normalized"
   ]
  }
 ],
 "metadata": {
  "kernelspec": {
   "display_name": "Python 3",
   "language": "python",
   "name": "python3"
  },
  "language_info": {
   "codemirror_mode": {
    "name": "ipython",
    "version": 3
   },
   "file_extension": ".py",
   "mimetype": "text/x-python",
   "name": "python",
   "nbconvert_exporter": "python",
   "pygments_lexer": "ipython3",
   "version": "3.12.3"
  }
 },
 "nbformat": 4,
 "nbformat_minor": 2
}
