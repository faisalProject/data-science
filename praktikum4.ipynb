{
 "cells": [
  {
   "cell_type": "markdown",
   "metadata": {},
   "source": [
    "#### BAB X (PEMBERSIHAN DATA)"
   ]
  },
  {
   "cell_type": "markdown",
   "metadata": {},
   "source": [
    "##### Mengenal Data"
   ]
  },
  {
   "cell_type": "code",
   "execution_count": 34,
   "metadata": {},
   "outputs": [],
   "source": [
    "import pandas as pd\n",
    "import numpy as np\n",
    "\n",
    "airdata = pd.read_csv('dataset/airdata.csv', low_memory=False)\n"
   ]
  },
  {
   "cell_type": "code",
   "execution_count": 35,
   "metadata": {},
   "outputs": [
    {
     "data": {
      "text/html": [
       "<div>\n",
       "<style scoped>\n",
       "    .dataframe tbody tr th:only-of-type {\n",
       "        vertical-align: middle;\n",
       "    }\n",
       "\n",
       "    .dataframe tbody tr th {\n",
       "        vertical-align: top;\n",
       "    }\n",
       "\n",
       "    .dataframe thead th {\n",
       "        text-align: right;\n",
       "    }\n",
       "</style>\n",
       "<table border=\"1\" class=\"dataframe\">\n",
       "  <thead>\n",
       "    <tr style=\"text-align: right;\">\n",
       "      <th></th>\n",
       "      <th>DateTime</th>\n",
       "      <th>Temperature</th>\n",
       "      <th>Humidity</th>\n",
       "      <th>Wind_Speed</th>\n",
       "      <th>Wind_Direction</th>\n",
       "      <th>NO2_Location_A</th>\n",
       "      <th>NO2_Location_B</th>\n",
       "      <th>NO2_Location_C</th>\n",
       "    </tr>\n",
       "  </thead>\n",
       "  <tbody>\n",
       "    <tr>\n",
       "      <th>8267</th>\n",
       "      <td>12/10/2020 11:00</td>\n",
       "      <td>0.730529</td>\n",
       "      <td>80</td>\n",
       "      <td>17.477621</td>\n",
       "      <td>122.38068</td>\n",
       "      <td>28.28</td>\n",
       "      <td>43.80</td>\n",
       "      <td>61.59</td>\n",
       "    </tr>\n",
       "    <tr>\n",
       "      <th>4305</th>\n",
       "      <td>6/28/2020 9:00</td>\n",
       "      <td>20.490528</td>\n",
       "      <td>76</td>\n",
       "      <td>17.418196</td>\n",
       "      <td>288.06050</td>\n",
       "      <td>4.90</td>\n",
       "      <td>6.95</td>\n",
       "      <td>6.65</td>\n",
       "    </tr>\n",
       "    <tr>\n",
       "      <th>748</th>\n",
       "      <td>2/1/2020 4:00</td>\n",
       "      <td>7.280528</td>\n",
       "      <td>88</td>\n",
       "      <td>8.311245</td>\n",
       "      <td>184.96974</td>\n",
       "      <td>16.50</td>\n",
       "      <td>21.03</td>\n",
       "      <td>33.10</td>\n",
       "    </tr>\n",
       "    <tr>\n",
       "      <th>5408</th>\n",
       "      <td>8/13/2020 8:00</td>\n",
       "      <td>23.460530</td>\n",
       "      <td>56</td>\n",
       "      <td>2.545584</td>\n",
       "      <td>225.00000</td>\n",
       "      <td>21.00</td>\n",
       "      <td>27.13</td>\n",
       "      <td>42.95</td>\n",
       "    </tr>\n",
       "    <tr>\n",
       "      <th>6783</th>\n",
       "      <td>10/9/2020 15:00</td>\n",
       "      <td>20.070530</td>\n",
       "      <td>60</td>\n",
       "      <td>14.587776</td>\n",
       "      <td>285.75120</td>\n",
       "      <td>19.85</td>\n",
       "      <td>16.80</td>\n",
       "      <td>67.73</td>\n",
       "    </tr>\n",
       "  </tbody>\n",
       "</table>\n",
       "</div>"
      ],
      "text/plain": [
       "              DateTime  Temperature  Humidity  Wind_Speed  Wind_Direction  \\\n",
       "8267  12/10/2020 11:00     0.730529        80   17.477621       122.38068   \n",
       "4305    6/28/2020 9:00    20.490528        76   17.418196       288.06050   \n",
       "748      2/1/2020 4:00     7.280528        88    8.311245       184.96974   \n",
       "5408    8/13/2020 8:00    23.460530        56    2.545584       225.00000   \n",
       "6783   10/9/2020 15:00    20.070530        60   14.587776       285.75120   \n",
       "\n",
       "      NO2_Location_A  NO2_Location_B  NO2_Location_C  \n",
       "8267           28.28           43.80           61.59  \n",
       "4305            4.90            6.95            6.65  \n",
       "748            16.50           21.03           33.10  \n",
       "5408           21.00           27.13           42.95  \n",
       "6783           19.85           16.80           67.73  "
      ]
     },
     "execution_count": 35,
     "metadata": {},
     "output_type": "execute_result"
    }
   ],
   "source": [
    "airdata.sample(5)"
   ]
  },
  {
   "cell_type": "code",
   "execution_count": 36,
   "metadata": {},
   "outputs": [
    {
     "data": {
      "text/plain": [
       "DateTime            0\n",
       "Temperature         0\n",
       "Humidity            0\n",
       "Wind_Speed          0\n",
       "Wind_Direction      0\n",
       "NO2_Location_A    120\n",
       "NO2_Location_B    580\n",
       "NO2_Location_C    132\n",
       "dtype: int64"
      ]
     },
     "execution_count": 36,
     "metadata": {},
     "output_type": "execute_result"
    }
   ],
   "source": [
    "missing_values_count = airdata.isnull().sum()\n",
    "missing_values_count"
   ]
  },
  {
   "cell_type": "code",
   "execution_count": 37,
   "metadata": {},
   "outputs": [
    {
     "data": {
      "text/plain": [
       "np.float64(1.1839708561020037)"
      ]
     },
     "execution_count": 37,
     "metadata": {},
     "output_type": "execute_result"
    }
   ],
   "source": [
    "total_cells = np.prod(airdata.shape)\n",
    "total_missing = missing_values_count.sum()\n",
    "\n",
    "(total_missing / total_cells) * 100"
   ]
  },
  {
   "cell_type": "markdown",
   "metadata": {},
   "source": [
    "##### Menghapus Nilai Hilang"
   ]
  },
  {
   "cell_type": "code",
   "execution_count": 38,
   "metadata": {},
   "outputs": [
    {
     "data": {
      "text/html": [
       "<div>\n",
       "<style scoped>\n",
       "    .dataframe tbody tr th:only-of-type {\n",
       "        vertical-align: middle;\n",
       "    }\n",
       "\n",
       "    .dataframe tbody tr th {\n",
       "        vertical-align: top;\n",
       "    }\n",
       "\n",
       "    .dataframe thead th {\n",
       "        text-align: right;\n",
       "    }\n",
       "</style>\n",
       "<table border=\"1\" class=\"dataframe\">\n",
       "  <thead>\n",
       "    <tr style=\"text-align: right;\">\n",
       "      <th></th>\n",
       "      <th>DateTime</th>\n",
       "      <th>Temperature</th>\n",
       "      <th>Humidity</th>\n",
       "      <th>Wind_Speed</th>\n",
       "      <th>Wind_Direction</th>\n",
       "    </tr>\n",
       "  </thead>\n",
       "  <tbody>\n",
       "    <tr>\n",
       "      <th>0</th>\n",
       "      <td>1/1/2020 0:00</td>\n",
       "      <td>2.180529</td>\n",
       "      <td>87</td>\n",
       "      <td>1.484318</td>\n",
       "      <td>75.963760</td>\n",
       "    </tr>\n",
       "    <tr>\n",
       "      <th>1</th>\n",
       "      <td>1/1/2020 1:00</td>\n",
       "      <td>1.490529</td>\n",
       "      <td>89</td>\n",
       "      <td>2.741678</td>\n",
       "      <td>113.198590</td>\n",
       "    </tr>\n",
       "    <tr>\n",
       "      <th>2</th>\n",
       "      <td>1/1/2020 2:00</td>\n",
       "      <td>1.690529</td>\n",
       "      <td>85</td>\n",
       "      <td>3.563818</td>\n",
       "      <td>135.000000</td>\n",
       "    </tr>\n",
       "    <tr>\n",
       "      <th>3</th>\n",
       "      <td>1/1/2020 3:00</td>\n",
       "      <td>1.430529</td>\n",
       "      <td>84</td>\n",
       "      <td>2.811690</td>\n",
       "      <td>129.805570</td>\n",
       "    </tr>\n",
       "    <tr>\n",
       "      <th>4</th>\n",
       "      <td>1/1/2020 4:00</td>\n",
       "      <td>0.840529</td>\n",
       "      <td>86</td>\n",
       "      <td>1.800000</td>\n",
       "      <td>126.869896</td>\n",
       "    </tr>\n",
       "  </tbody>\n",
       "</table>\n",
       "</div>"
      ],
      "text/plain": [
       "        DateTime  Temperature  Humidity  Wind_Speed  Wind_Direction\n",
       "0  1/1/2020 0:00     2.180529        87    1.484318       75.963760\n",
       "1  1/1/2020 1:00     1.490529        89    2.741678      113.198590\n",
       "2  1/1/2020 2:00     1.690529        85    3.563818      135.000000\n",
       "3  1/1/2020 3:00     1.430529        84    2.811690      129.805570\n",
       "4  1/1/2020 4:00     0.840529        86    1.800000      126.869896"
      ]
     },
     "execution_count": 38,
     "metadata": {},
     "output_type": "execute_result"
    }
   ],
   "source": [
    "# Remove all columns with at leats one missing value\n",
    "columns_with_na_dropped = airdata.dropna(axis=1)\n",
    "columns_with_na_dropped.head()"
   ]
  },
  {
   "cell_type": "code",
   "execution_count": 39,
   "metadata": {},
   "outputs": [
    {
     "name": "stdout",
     "output_type": "stream",
     "text": [
      "Columns in original dataset:  8\n",
      "Columns with missing values dropped:  5\n"
     ]
    }
   ],
   "source": [
    "print(\"Columns in original dataset: \", airdata.shape[1])\n",
    "print(\"Columns with missing values dropped: \", columns_with_na_dropped.shape[1])"
   ]
  },
  {
   "cell_type": "markdown",
   "metadata": {},
   "source": [
    "##### Mengisi nilai kosong\n"
   ]
  },
  {
   "cell_type": "code",
   "execution_count": 40,
   "metadata": {},
   "outputs": [
    {
     "data": {
      "text/html": [
       "<div>\n",
       "<style scoped>\n",
       "    .dataframe tbody tr th:only-of-type {\n",
       "        vertical-align: middle;\n",
       "    }\n",
       "\n",
       "    .dataframe tbody tr th {\n",
       "        vertical-align: top;\n",
       "    }\n",
       "\n",
       "    .dataframe thead th {\n",
       "        text-align: right;\n",
       "    }\n",
       "</style>\n",
       "<table border=\"1\" class=\"dataframe\">\n",
       "  <thead>\n",
       "    <tr style=\"text-align: right;\">\n",
       "      <th></th>\n",
       "      <th>DateTime</th>\n",
       "      <th>Temperature</th>\n",
       "    </tr>\n",
       "  </thead>\n",
       "  <tbody>\n",
       "    <tr>\n",
       "      <th>0</th>\n",
       "      <td>1/1/2020 0:00</td>\n",
       "      <td>2.180529</td>\n",
       "    </tr>\n",
       "    <tr>\n",
       "      <th>1</th>\n",
       "      <td>1/1/2020 1:00</td>\n",
       "      <td>1.490529</td>\n",
       "    </tr>\n",
       "    <tr>\n",
       "      <th>2</th>\n",
       "      <td>1/1/2020 2:00</td>\n",
       "      <td>1.690529</td>\n",
       "    </tr>\n",
       "    <tr>\n",
       "      <th>3</th>\n",
       "      <td>1/1/2020 3:00</td>\n",
       "      <td>1.430529</td>\n",
       "    </tr>\n",
       "    <tr>\n",
       "      <th>4</th>\n",
       "      <td>1/1/2020 4:00</td>\n",
       "      <td>0.840529</td>\n",
       "    </tr>\n",
       "  </tbody>\n",
       "</table>\n",
       "</div>"
      ],
      "text/plain": [
       "        DateTime  Temperature\n",
       "0  1/1/2020 0:00     2.180529\n",
       "1  1/1/2020 1:00     1.490529\n",
       "2  1/1/2020 2:00     1.690529\n",
       "3  1/1/2020 3:00     1.430529\n",
       "4  1/1/2020 4:00     0.840529"
      ]
     },
     "execution_count": 40,
     "metadata": {},
     "output_type": "execute_result"
    }
   ],
   "source": [
    "subset_airdata = airdata.loc[:, 'DateTime': 'Temperature'].head()\n",
    "subset_airdata.fillna(0)"
   ]
  },
  {
   "cell_type": "markdown",
   "metadata": {},
   "source": [
    "##### Noramalisasi Data"
   ]
  },
  {
   "cell_type": "code",
   "execution_count": 44,
   "metadata": {},
   "outputs": [
    {
     "data": {
      "text/html": [
       "<div>\n",
       "<style scoped>\n",
       "    .dataframe tbody tr th:only-of-type {\n",
       "        vertical-align: middle;\n",
       "    }\n",
       "\n",
       "    .dataframe tbody tr th {\n",
       "        vertical-align: top;\n",
       "    }\n",
       "\n",
       "    .dataframe thead th {\n",
       "        text-align: right;\n",
       "    }\n",
       "</style>\n",
       "<table border=\"1\" class=\"dataframe\">\n",
       "  <thead>\n",
       "    <tr style=\"text-align: right;\">\n",
       "      <th></th>\n",
       "      <th>name</th>\n",
       "      <th>population</th>\n",
       "      <th>income</th>\n",
       "      <th>latino</th>\n",
       "      <th>black</th>\n",
       "      <th>white</th>\n",
       "      <th>asian</th>\n",
       "      <th>other</th>\n",
       "    </tr>\n",
       "  </thead>\n",
       "  <tbody>\n",
       "    <tr>\n",
       "      <th>0</th>\n",
       "      <td>Rogers Park</td>\n",
       "      <td>54991</td>\n",
       "      <td>39482</td>\n",
       "      <td>0.244</td>\n",
       "      <td>0.263</td>\n",
       "      <td>0.393</td>\n",
       "      <td>0.064</td>\n",
       "      <td>0.036</td>\n",
       "    </tr>\n",
       "    <tr>\n",
       "      <th>1</th>\n",
       "      <td>West Ridge</td>\n",
       "      <td>71942</td>\n",
       "      <td>47323</td>\n",
       "      <td>0.204</td>\n",
       "      <td>0.111</td>\n",
       "      <td>0.427</td>\n",
       "      <td>0.225</td>\n",
       "      <td>0.032</td>\n",
       "    </tr>\n",
       "    <tr>\n",
       "      <th>2</th>\n",
       "      <td>Uptown</td>\n",
       "      <td>56362</td>\n",
       "      <td>40324</td>\n",
       "      <td>0.142</td>\n",
       "      <td>0.200</td>\n",
       "      <td>0.516</td>\n",
       "      <td>0.114</td>\n",
       "      <td>0.028</td>\n",
       "    </tr>\n",
       "    <tr>\n",
       "      <th>3</th>\n",
       "      <td>Lincoln Square</td>\n",
       "      <td>39493</td>\n",
       "      <td>57749</td>\n",
       "      <td>0.191</td>\n",
       "      <td>0.038</td>\n",
       "      <td>0.631</td>\n",
       "      <td>0.111</td>\n",
       "      <td>0.029</td>\n",
       "    </tr>\n",
       "    <tr>\n",
       "      <th>4</th>\n",
       "      <td>North Center</td>\n",
       "      <td>31867</td>\n",
       "      <td>81524</td>\n",
       "      <td>0.136</td>\n",
       "      <td>0.023</td>\n",
       "      <td>0.773</td>\n",
       "      <td>0.045</td>\n",
       "      <td>0.022</td>\n",
       "    </tr>\n",
       "  </tbody>\n",
       "</table>\n",
       "</div>"
      ],
      "text/plain": [
       "             name  population  income  latino  black  white  asian  other\n",
       "0     Rogers Park       54991   39482   0.244  0.263  0.393  0.064  0.036\n",
       "1      West Ridge       71942   47323   0.204  0.111  0.427  0.225  0.032\n",
       "2          Uptown       56362   40324   0.142  0.200  0.516  0.114  0.028\n",
       "3  Lincoln Square       39493   57749   0.191  0.038  0.631  0.111  0.029\n",
       "4    North Center       31867   81524   0.136  0.023  0.773  0.045  0.022"
      ]
     },
     "execution_count": 44,
     "metadata": {},
     "output_type": "execute_result"
    }
   ],
   "source": [
    "from scipy import stats\n",
    "from mlxtend.preprocessing import minmax_scaling\n",
    "import seaborn as sns\n",
    "import matplotlib.pyplot as plt\n",
    "\n",
    "chicago_population = pd.read_csv('dataset/chicago_population.csv', low_memory=False)\n",
    "np.random.seed(0)\n",
    "chicago_population.head()"
   ]
  }
 ],
 "metadata": {
  "kernelspec": {
   "display_name": "Python 3",
   "language": "python",
   "name": "python3"
  },
  "language_info": {
   "codemirror_mode": {
    "name": "ipython",
    "version": 3
   },
   "file_extension": ".py",
   "mimetype": "text/x-python",
   "name": "python",
   "nbconvert_exporter": "python",
   "pygments_lexer": "ipython3",
   "version": "3.12.3"
  }
 },
 "nbformat": 4,
 "nbformat_minor": 2
}
